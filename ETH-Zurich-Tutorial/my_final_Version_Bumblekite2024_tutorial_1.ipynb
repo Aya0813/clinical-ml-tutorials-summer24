{
 "cells": [
  {
   "cell_type": "markdown",
   "id": "94b4ea3d-3cce-49a5-bdf1-2e176fb91867",
   "metadata": {
    "id": "94b4ea3d-3cce-49a5-bdf1-2e176fb91867",
    "jp-MarkdownHeadingCollapsed": true
   },
   "source": [
    "# Bumblekite Tutorial 1: Hidden Hypoxemia's Impact on In-Hospital Mortality\n",
    "\n",
    "\n",
    "* Understanding the Problem: Pulse oximeters are medical devices used to measure the level of oxygen in the blood without needing a blood sample. The most accurate method, however, requires taking a blood sample to measure oxygen levels directly. Pulse oximeters currently available are less accurate in people with darker skin tones. Theses pulse oximetry inaccuracies can fail to detect episodes of hidden hypoxemia, i.e., low SaO2 with high SpO2. Hidden hypoxemias can result in less treatment and increased mortality. Yet flawed, pulse oximeters remain ubiquitously used because of their ease of use; debiasing the underlying algorithms could alleviate the downstream repercussions of hidden hypoxemia.\n",
    "\n",
    "* Dataset: BOLD is a new comprehensive dataset that aims to underscore the importance of addressing biases in pulse oximetry accuracy, which disproportionately affect darker-skinned patients. The dataset was created by harmonizing three Electronic Health Record databases (MIMIC-III, MIMIC-IV, eICU-CRD) comprising Intensive Care Unit stays of US patients.\n",
    "\n",
    "* Main Paper: The tutorial is build upon the paper titled \"Analysis of Discrepancies Between Pulse Oximetry and Arterial Oxygen Saturation Measurements by Race and Ethnicity and Association With Organ Dysfunction and Mortality\" published in JAMA Network Open. This paper investigates discrepancies between pulse oximetry (SpO2) and arterial oxygen saturation (SaO2) measurements, examining the impact of these discrepancies on clinical outcomes across different racial and ethnic groups.\n",
    "\n",
    "\n",
    "* Objective of the tutorial: The objective of this tutorial is to provide a comprehensive guide on how to analyze and address biases in healthcare data, with a specific focus on hidden hypoxemia and its impact on in-hospital mortality predictions. Through a series of structured steps, including exploratory data analysis, data preprocessing, train-test splitting, and model evaluation, participants will learn how to:\n",
    "\n",
    "1. Detect and understand hidden patterns and biases in healthcare datasets.\n",
    "2. Preprocess data effectively to ensure robust and reliable model performance.\n",
    "3. Evaluate the influence of hidden hypoxemia on patient outcomes using statistical and machine learning techniques.\n",
    "4. Assess and compare the performance of different models across various racial groups to highlight the importance of careful feature selection and bias mitigation in clinical predictions.\n",
    "\n",
    "\n",
    "* Key Variables to keep in mind:\n",
    "\n",
    "1. **Pulse Oximetry (SpO2)**: This is a [ non-invasive ] method used to measure the oxygen level (oxygen saturation) in the blood. It is usually done using a device clipped onto a finger, toe, or earlobe. Normal SpO2 levels range from 95% to 100%, indicating sufficient oxygen in the blood. Levels below 95% can indicate hypoxemia, with severe hypoxemia occurring below 85%.\n",
    "2. **Arterial Oxygen Saturation (SaO2)**: This is an [ invasive ] measurement of oxygen saturation directly from the blood using an arterial blood gas (ABG) test. It is more accurate than pulse oximetry but requires drawing blood from an artery. SaO2 provides a direct measurement of oxygen levels in the blood and is used to confirm the accuracy of SpO2 readings, especially in cases of suspected hypoxemia.\n",
    "3. **ABG**: Arterial Blood Gas\n",
    "4. **Hypoxemia**: This refers to low levels of oxygen in the blood. It can be dangerous and requires medical attention.\n",
    "5. **Hidden Hypoxemia**: This occurs when a patient's pulse oximetry reading (SpO2) suggests they have normal oxygen levels, but their arterial oxygen saturation (SaO2) shows they actually have low oxygen levels. → (ie, SpO2 ≥ 88% but SaO2 <88%).\n",
    "6. **Organ Dysfunction**: This refers to the impaired function of organs (like the heart, lungs, liver, or kidneys) often assessed using specific scores like the Sequential Organ Failure Assessment (SOFA) score.\n",
    "7. **In-hospital Mortality**: This means death occurring during a hospital stay.\n",
    "8. **Sequential Organ Failure Assessment (SOFA) Score**: A scoring system used to track a patient's status during their stay in an intensive care unit (ICU). Higher scores indicate more severe organ dysfunction.\n",
    "9. **Electronic Health Record (EHR)**: Digital version of patients' paper charts. They contain the medical and treatment history of patients.\n",
    "\n",
    "\n",
    "Note: This tutorial draws inspiration from earlier datathons, particularly the [MIT Critical Datathon 2023](https://github.com/CriticalDatathon) and the [MIT Brown Datathon 2024](https://github.com/joamats/mit-brown-datathon).\n"
   ]
  },
  {
   "cell_type": "markdown",
   "id": "_4g301eXlM5s",
   "metadata": {
    "id": "_4g301eXlM5s"
   },
   "source": [
    "**👥 Team Names**\n",
    "\n",
    "`Add your names here (alphabetically)`\n",
    "\n",
    "- ....\n",
    "- ....\n"
   ]
  },
  {
   "cell_type": "markdown",
   "id": "5e7f92a6",
   "metadata": {
    "id": "5e7f92a6"
   },
   "source": [
    "# Loading the dependencies and libraries"
   ]
  },
  {
   "cell_type": "code",
   "execution_count": null,
   "id": "c1519ada-8324-415d-a875-c90c636a3e41",
   "metadata": {
    "id": "c1519ada-8324-415d-a875-c90c636a3e41"
   },
   "outputs": [],
   "source": [
    "# If you are using Jupyter Notebook, make sure you are in the right environment kernel!"
   ]
  },
  {
   "cell_type": "code",
   "execution_count": null,
   "id": "c76671ec",
   "metadata": {
    "id": "c76671ec"
   },
   "outputs": [],
   "source": [
    "import sklearn\n",
    "import pandas as pd\n",
    "import matplotlib.pyplot as plt\n",
    "import numpy as np\n",
    "import seaborn as sns\n",
    "\n",
    "import warnings\n",
    "warnings.filterwarnings(\"ignore\")"
   ]
  },
  {
   "cell_type": "markdown",
   "id": "2a8ce331",
   "metadata": {
    "id": "2a8ce331"
   },
   "source": [
    "# Loading the Data"
   ]
  },
  {
   "cell_type": "code",
   "execution_count": null,
   "id": "lw6OZ6uujKRb",
   "metadata": {
    "colab": {
     "base_uri": "https://localhost:8080/"
    },
    "id": "lw6OZ6uujKRb",
    "outputId": "8bd4a8a4-f54f-4cd0-ee55-26b1dad218ff"
   },
   "outputs": [],
   "source": [
    "# Mount Google Drive to access your files:\n",
    "from google.colab import drive\n",
    "drive.mount('/content/drive')"
   ]
  },
  {
   "cell_type": "code",
   "execution_count": null,
   "id": "0cd04d18",
   "metadata": {
    "id": "0cd04d18"
   },
   "outputs": [],
   "source": [
    "# After ensuring that your CSV file is placed in your Google Drive, run:\n",
    "\n",
    "import pandas as pd\n",
    "\n",
    "# df_initial = pd.read_csv(\"your_drive_path_to_file.csv\")\n",
    "\n",
    "df_initial = pd.read_csv(\"/content/drive/MyDrive/2024-2025/Summer_2024/BumbleKite_2024/Datathon/full_code/participants/bold_dataset.csv\")\n",
    "# for me the BOLD dataset is in: /content/drive/MyDrive/BumbleKite_2024/Tutorial_content/data/participants/bold_dataset.csv"
   ]
  },
  {
   "cell_type": "code",
   "execution_count": null,
   "id": "6edfa665-86ca-4d55-85dc-34d0fa85db42",
   "metadata": {
    "colab": {
     "base_uri": "https://localhost:8080/",
     "height": 255
    },
    "id": "6edfa665-86ca-4d55-85dc-34d0fa85db42",
    "outputId": "0d47a574-54c4-4242-fd67-8fa6575c9777"
   },
   "outputs": [],
   "source": [
    "# Did it work? Inspect the Data:\n",
    "\n",
    "# Peak at our data (First 5 rows)\n",
    "df_initial.head()"
   ]
  },
  {
   "cell_type": "code",
   "execution_count": null,
   "id": "ced8ab43",
   "metadata": {
    "colab": {
     "base_uri": "https://localhost:8080/"
    },
    "id": "ced8ab43",
    "outputId": "3faecd14-7e46-4367-9d58-be3596232114"
   },
   "outputs": [],
   "source": [
    "# Get a summary of the DataFrame\n",
    "print(df_initial.info())"
   ]
  },
  {
   "cell_type": "code",
   "execution_count": null,
   "id": "abd2af73-8e5c-44a8-af0d-7873a45e2389",
   "metadata": {
    "colab": {
     "base_uri": "https://localhost:8080/"
    },
    "id": "abd2af73-8e5c-44a8-af0d-7873a45e2389",
    "outputId": "d8b286b3-da8f-4d00-906c-aeb34e534e65"
   },
   "outputs": [],
   "source": [
    "# Get the column names\n",
    "column_names = df_initial.columns.tolist()\n",
    "print (\"Column names:\", column_names)"
   ]
  },
  {
   "cell_type": "markdown",
   "id": "94909564-ad68-4993-871a-ad57efcff817",
   "metadata": {
    "id": "94909564-ad68-4993-871a-ad57efcff817"
   },
   "source": [
    "For an overview of all the variables and their meanings, please refer to the paper on the dataset [BOLD: Blood-gas and Oximetry Linked Dataset](https://www.nature.com/articles/s41597-024-03225-z#Sec23) . Check the \"Description of fields\" section for detailed information.\n"
   ]
  },
  {
   "cell_type": "code",
   "execution_count": null,
   "id": "bde53039",
   "metadata": {
    "id": "bde53039"
   },
   "outputs": [],
   "source": [
    "# List of key variables to explore further\n",
    "key_variables = [\n",
    "\n",
    "    'source_db', 'comorbidity_score_value',\n",
    "\n",
    "    # ids\n",
    "    'unique_subject_id', 'unique_hospital_admission_id', 'unique_icustay_id',\n",
    "\n",
    "    # patient\n",
    "    'admission_age', 'sex_female', 'race_ethnicity', 'BMI_admission', # BMI: Body Mass Index\n",
    "    'weight_admission' , 'height_admission',\n",
    "\n",
    "    # ICU stay info\n",
    "    'sofa_past_overall_24hr', 'sofa_future_overall_24hr',\n",
    "\n",
    "    # Vital signs\n",
    "    'vitals_heart_rate',  'vitals_mbp_ni', 'vitals_resp_rate', 'vitals_tempc',\n",
    "        ## MBP: Mean Blood Measure\n",
    "        ## invasive(i) and non invasive(ni)\n",
    "        ## DBP: Diastolic Blood Pressure\n",
    "\n",
    "    # LABS\n",
    "    'cbc_wbc', 'cbc_hematocrit', 'cbc_platelet',\n",
    "    'coag_fibrinogen', 'coag_inr',\n",
    "    'bmp_sodium', 'bmp_potassium', 'bmp_chloride', 'bmp_bicarbonate', 'bmp_bun', 'bmp_creatinine',\n",
    "    'bmp_glucose', 'bmp_aniongap', 'bmp_calcium', 'bmp_lactate', 'hfp_alt', 'hfp_alp', 'hfp_ast',\n",
    "    'hfp_bilirubin_total', 'hfp_albumin', 'others_ck_cpk',\n",
    "    'others_ld_ldh',\n",
    "\n",
    "    # Target\n",
    "    'in_hospital_mortality',\n",
    "\n",
    "     # ABG data\n",
    "    'pH',\n",
    "\n",
    "    # Study Features\n",
    "    'SpO2', 'SaO2'\n",
    "\n",
    "]"
   ]
  },
  {
   "cell_type": "code",
   "execution_count": null,
   "id": "090ce2de",
   "metadata": {
    "id": "090ce2de"
   },
   "outputs": [],
   "source": [
    "# Filter the dataset to only focus on the key variables relevant to the tutorial\n",
    "df_key_variables = df_initial [key_variables]"
   ]
  },
  {
   "cell_type": "code",
   "execution_count": null,
   "id": "f4d253f5",
   "metadata": {
    "colab": {
     "base_uri": "https://localhost:8080/"
    },
    "id": "f4d253f5",
    "outputId": "8dab0568-5e53-4db8-8651-e2cdf8e3d902"
   },
   "outputs": [],
   "source": [
    "# Visualize the columns of the new dataframe\n",
    "print(df_key_variables.columns.tolist())"
   ]
  },
  {
   "cell_type": "code",
   "execution_count": null,
   "id": "f8683b9b-a5ff-4b00-ac41-39165434815f",
   "metadata": {
    "colab": {
     "base_uri": "https://localhost:8080/"
    },
    "id": "f8683b9b-a5ff-4b00-ac41-39165434815f",
    "outputId": "50e5d8e2-5efa-4b94-b795-b42e860fa03d"
   },
   "outputs": [],
   "source": [
    "df_key_variables.shape"
   ]
  },
  {
   "cell_type": "code",
   "execution_count": null,
   "id": "ed03adb8-549b-4fee-8f58-d5118154f045",
   "metadata": {
    "colab": {
     "base_uri": "https://localhost:8080/"
    },
    "id": "ed03adb8-549b-4fee-8f58-d5118154f045",
    "outputId": "909d45dd-b123-477d-88d8-6c0ecc5aa362"
   },
   "outputs": [],
   "source": [
    "# Calculate the percentage of each unique value in the 'race_ethnicity' column\n",
    "race_ethnicity_counts = df_key_variables['race_ethnicity'].value_counts(normalize=True) * 100\n",
    "\n",
    "# Display the percentages\n",
    "print(race_ethnicity_counts)"
   ]
  },
  {
   "cell_type": "code",
   "execution_count": null,
   "id": "63696c39-2cf1-433e-a308-3c31195fde23",
   "metadata": {
    "id": "63696c39-2cf1-433e-a308-3c31195fde23"
   },
   "outputs": [],
   "source": [
    "# Filter the Dataframe to include only the most common racial/ethnic groups\n",
    "selected_groups = ['Asian','Hispanic OR Latino', 'Black', 'White']\n",
    "df_filtered = df_key_variables[df_key_variables ['race_ethnicity'].apply(lambda x: x in selected_groups)].copy()"
   ]
  },
  {
   "cell_type": "code",
   "execution_count": null,
   "id": "CG0Xkl2m5_tf",
   "metadata": {
    "colab": {
     "base_uri": "https://localhost:8080/"
    },
    "id": "CG0Xkl2m5_tf",
    "outputId": "68a87565-6720-430c-eb27-a61d4054022d"
   },
   "outputs": [],
   "source": [
    "df_filtered.shape"
   ]
  },
  {
   "cell_type": "markdown",
   "id": "93158db1-7327-42ce-8602-ed9cedec70fa",
   "metadata": {
    "id": "93158db1-7327-42ce-8602-ed9cedec70fa"
   },
   "source": [
    "# Train Test Split\n",
    "\n"
   ]
  },
  {
   "cell_type": "code",
   "execution_count": null,
   "id": "669d8e78-ef62-413e-bd33-5dd6c1043f48",
   "metadata": {
    "id": "669d8e78-ef62-413e-bd33-5dd6c1043f48"
   },
   "outputs": [],
   "source": [
    "from sklearn.model_selection import train_test_split\n",
    "\n",
    "data_train, data_test = train_test_split (df_filtered, test_size = 0.2, random_state = 42)"
   ]
  },
  {
   "cell_type": "code",
   "execution_count": null,
   "id": "7c05eec7-1787-414e-89d7-591426d9130a",
   "metadata": {
    "colab": {
     "base_uri": "https://localhost:8080/"
    },
    "id": "7c05eec7-1787-414e-89d7-591426d9130a",
    "outputId": "537cec3b-d364-41ec-e905-6b97ce057127"
   },
   "outputs": [],
   "source": [
    "print(\"Shape of the training data\", data_train.shape)\n",
    "print(\"Shape of the testing data\", data_test.shape)"
   ]
  },
  {
   "cell_type": "markdown",
   "id": "b60fc9ca-39c9-4517-8032-f1befc390e9d",
   "metadata": {
    "id": "b60fc9ca-39c9-4517-8032-f1befc390e9d"
   },
   "source": [
    "### Check balancing of the mortality outcome"
   ]
  },
  {
   "cell_type": "markdown",
   "id": "lhTUIbD7bOJv",
   "metadata": {
    "id": "lhTUIbD7bOJv"
   },
   "source": [
    "* Question to the participants:\n",
    "  - What is the purpose of this step?\n",
    "  - How should we go about it?\n",
    "\n",
    "\n",
    "* My Answer: The goal of checking the mean of hospital_death in the overall dataset, training set, and test set is to ensure that the distribution of the target variable (in-hospital mortality) is balanced across these subsets. This helps to verify that the data splitting process did not introduce any bias, ensuring the model will be trained and evaluated on representative samples.\n",
    "[ ask them to fill their answer ]"
   ]
  },
  {
   "cell_type": "code",
   "execution_count": null,
   "id": "f2373388-e01c-4797-8fbc-2fe97031a9b1",
   "metadata": {
    "colab": {
     "base_uri": "https://localhost:8080/"
    },
    "id": "f2373388-e01c-4797-8fbc-2fe97031a9b1",
    "outputId": "35f34d7a-8d97-4f56-c23a-a5e746a5cb65"
   },
   "outputs": [],
   "source": [
    "print(df_filtered.in_hospital_mortality.mean())\n",
    "print(data_train.in_hospital_mortality.mean())\n",
    "print(data_test.in_hospital_mortality.mean())"
   ]
  },
  {
   "cell_type": "markdown",
   "id": "8fbaae74-a52c-40eb-85ae-288735b0baed",
   "metadata": {
    "id": "8fbaae74-a52c-40eb-85ae-288735b0baed"
   },
   "source": [
    "- Any observations?\n",
    "They should not be too different as we need to ensure that the proportions of the target variable are similar across the overall dataset, training set, and test set helps in building a model that is more likely to generalize well and provides accurate performance metrics."
   ]
  },
  {
   "cell_type": "markdown",
   "id": "jIiiqdthcA8e",
   "metadata": {
    "id": "jIiiqdthcA8e"
   },
   "source": [
    "# Initial Exploratory Data Analysis (EDA)"
   ]
  },
  {
   "cell_type": "markdown",
   "id": "91599ec6-1b0d-458c-bce6-aa2e3836e427",
   "metadata": {
    "id": "91599ec6-1b0d-458c-bce6-aa2e3836e427",
    "jp-MarkdownHeadingCollapsed": true
   },
   "source": [
    "## Pandas profiling\n",
    "\n",
    "Pandas-profiling delivers an extended analysis of a DataFrame. Really helpful!"
   ]
  },
  {
   "cell_type": "code",
   "execution_count": null,
   "id": "dcad9f37-e698-4c93-949d-9ec00806d6d1",
   "metadata": {
    "colab": {
     "base_uri": "https://localhost:8080/"
    },
    "id": "dcad9f37-e698-4c93-949d-9ec00806d6d1",
    "outputId": "d3be89fe-3722-4c41-d51e-417f8c28394d"
   },
   "outputs": [],
   "source": [
    "# Inspect the data types of each column\n",
    "print(data_train.dtypes)"
   ]
  },
  {
   "cell_type": "code",
   "execution_count": null,
   "id": "tYU01ixnn7Wf",
   "metadata": {
    "colab": {
     "base_uri": "https://localhost:8080/"
    },
    "id": "tYU01ixnn7Wf",
    "outputId": "5d52939b-c133-49e0-8b95-e1c6fd3167e2"
   },
   "outputs": [],
   "source": [
    "! pip install pandas-profiling"
   ]
  },
  {
   "cell_type": "code",
   "execution_count": null,
   "id": "JkMDI7HERxwD",
   "metadata": {
    "colab": {
     "base_uri": "https://localhost:8080/",
     "height": 1000
    },
    "id": "JkMDI7HERxwD",
    "outputId": "e9ae3d40-b8f3-4c0a-c119-d017dc70ba9a"
   },
   "outputs": [],
   "source": [
    "! pip install ydata_profiling"
   ]
  },
  {
   "cell_type": "code",
   "execution_count": null,
   "id": "4b99c7aa-54a0-4975-9fa3-3deff2f64d56",
   "metadata": {
    "colab": {
     "base_uri": "https://localhost:8080/",
     "height": 1000,
     "referenced_widgets": [
      "1093a7be9b76457cad26537143872f60",
      "05363891af054843bd2613c5257d3a44",
      "2974ab9b726c46068c58e23de16057b7",
      "8e668438df644d42bf1195ba8e2eb24e",
      "a3ebc626e69d415281217adef5b5e6c3",
      "97d9e90545ca4bf69753a94bc980b717",
      "fd1e3c4ed61748ae8e307934773a0104",
      "9fe1032283b149b4821984a023b94db7",
      "ca47375698604ba1a90a791a7759490d",
      "c99de2b4a223485bb47903b375538932",
      "39a1d28f9aff4ddda512e3e039f81bbd",
      "b69fa7f363524c9aae73d143d43178c7",
      "d64f80e615994986a109f17a75ae0bef",
      "1a35b244f3f3441ab7b971ef6ef12ada",
      "066d26f028e24b8783bdb84420d59fb7",
      "de6864d2ec9941d1acc232fe7dcc0328",
      "1ccc7c6902e94fb0aad0bd4886d41668",
      "93df8033750842478015819ad6a7cb8d",
      "fc5b5846de1b4c3dbf96eaa6bde8b4c0",
      "14be31c1f04a4060ac540b0193ad81ca",
      "f68d8d29f98043dba8c168abec0fe598",
      "dae0f0fff7fa4e93a11d500cd80c8781",
      "ec1e56ed44c14200a456374677588d73",
      "228e6c7e534a402e9cdff4f6ff7d8c35",
      "dca78a329d8f4e7f81cd3f18dfced873",
      "ef8e98e942194cb1a06d0a48c12c33dc",
      "feb4fc7142b7484792ba3efcf42e35e3",
      "d61dc9977ba1470bbb98eb8a5b78ddac",
      "f98edb0bf6724cf0b7234e325bb832a7",
      "910bbb91cd1442139fecf38021d8de69",
      "7d4ad6e64e194542b1d35a6ea7e1ce75",
      "9bea65414c2b47098f70595e9223dc3f",
      "3b254ce78f3f46c093a647e3d8de81b8",
      "954124156932454eafde054be2ddf56e",
      "47d276af72c64c75a5c9291e805dc303",
      "a9b15fa219e441d98a1d05fe56ea90bc",
      "46e508e8c03c4b35a445e73d8b2b3172",
      "581bca2b2afe41838662d0286ae35f4a",
      "11ff5b1384d749fa913632eb5b88e6e1",
      "7d5c8bd8af43489c8cb7a0453df21977",
      "b6a993d1149d4f6c8dad44d92f542783",
      "0fd434c7236d48e18b02209a6bad3bea",
      "bae23f6f94064b1196d549adefeafa9f",
      "4eaf0db2331644738880dc9826d31a38"
     ]
    },
    "id": "4b99c7aa-54a0-4975-9fa3-3deff2f64d56",
    "outputId": "f35af994-9fa3-4214-c01d-fe75b1c751b8"
   },
   "outputs": [],
   "source": [
    "import os\n",
    "from ydata_profiling import ProfileReport\n",
    "\n",
    "# Path where the report should be saved\n",
    "save_path = \"/content/drive/MyDrive/2024-2025/Summer_2024/BumbleKite_2024/Datathon/pandas_reports/data_train_copy_report.html\"\n",
    "\n",
    "# Ensure the directory exists\n",
    "os.makedirs(os.path.dirname(save_path), exist_ok=True)\n",
    "\n",
    "# Generate the profile report\n",
    "profile = ProfileReport(data_train, title=\"Pandas Profiling Report of the Training Data\")\n",
    "\n",
    "# To display the report in a Jupyter notebook\n",
    "profile.to_notebook_iframe()\n",
    "\n",
    "# Save the report to an HTML file\n",
    "profile.to_file(save_path)"
   ]
  },
  {
   "cell_type": "markdown",
   "id": "x7gsmqczej90",
   "metadata": {
    "id": "x7gsmqczej90"
   },
   "source": [
    "Note: You can download the HTML file from your Drive to your local computer and view it there!"
   ]
  },
  {
   "cell_type": "markdown",
   "id": "M_25LYq4tWGm",
   "metadata": {
    "id": "M_25LYq4tWGm"
   },
   "source": [
    "#### The Profile Report will take around 10 mins to run, so while it is loading....\n",
    "\n",
    "\n",
    "* Think of the question: Why do you think we are doing the train test split right after loading the data specifically? Why not before or after?\n",
    "* My answer: To prevent data leakage and ensure the test set remains hidden, this step should be performed immediately after loading the data, before any exploratory data analysis (EDA) or preprocessing.\n",
    "\n",
    "\n",
    "\n",
    "Now that we did our train test split, pre processing & EDA should be done solely on train set!"
   ]
  },
  {
   "cell_type": "markdown",
   "id": "3d51746e",
   "metadata": {
    "id": "3d51746e"
   },
   "source": [
    "## Overview of the data using Tableone\n",
    "Goal: To understand the distribution of patients across different racial-ethnic groups, sex, and other demographics. This step sets the foundation by showing the diversity in the dataset and highlighting potential areas of interest for further analysis."
   ]
  },
  {
   "cell_type": "code",
   "execution_count": null,
   "id": "b6219d71-3d52-4800-a0cc-70d145b06474",
   "metadata": {
    "id": "b6219d71-3d52-4800-a0cc-70d145b06474"
   },
   "outputs": [],
   "source": [
    "# Create a new column with 'F' for female and 'M' for male\n",
    "data_train['sex'] = data_train['sex_female'].apply(lambda x: 'F' if x == 1 else 'M')"
   ]
  },
  {
   "cell_type": "code",
   "execution_count": null,
   "id": "6RiEqxqizAbi",
   "metadata": {
    "colab": {
     "base_uri": "https://localhost:8080/"
    },
    "id": "6RiEqxqizAbi",
    "outputId": "18059aae-cdcb-4d0b-e736-391431da9e7d"
   },
   "outputs": [],
   "source": [
    "! pip install tableone"
   ]
  },
  {
   "cell_type": "code",
   "execution_count": null,
   "id": "bWiplgpBhkf-",
   "metadata": {
    "id": "bWiplgpBhkf-"
   },
   "outputs": [],
   "source": [
    "data_train_TableOne = data_train.copy()"
   ]
  },
  {
   "cell_type": "code",
   "execution_count": null,
   "id": "pZw1CR_6U4SJ",
   "metadata": {
    "id": "pZw1CR_6U4SJ"
   },
   "outputs": [],
   "source": [
    "# Assuming your DataFrame is named `data_train_TableOne`\n",
    "data_train_TableOne['in_hospital_mortality'] = data_train_TableOne['in_hospital_mortality'].astype(str)"
   ]
  },
  {
   "cell_type": "code",
   "execution_count": null,
   "id": "81ef8e37",
   "metadata": {
    "id": "81ef8e37"
   },
   "outputs": [],
   "source": [
    "from tableone import TableOne\n",
    "\n",
    "# Specify the columns to include in the table\n",
    "columns = ['admission_age', 'BMI_admission', 'race_ethnicity', 'sex', 'in_hospital_mortality']\n",
    "\n",
    "# Categorical Variables [represent categories]\n",
    "categorical = ['sex', 'in_hospital_mortality']\n",
    "\n",
    "\n",
    "# Define how to group the data for comparison\n",
    "# In this case grouping by 'in_hospital_mortality' to compare different groups based on their mortality status\n",
    "# Optional: Try to group by another outcome and see what you can get.\n",
    "groupby = 'race_ethnicity'\n",
    "\n",
    "# Indicates which variables are not normally distributed\n",
    "nonnormal = ['BMI_admission']\n",
    "\n",
    "# Renames the variables for better readability\n",
    "labels = {\n",
    "    'in_hospital_mortality': 'Mortality',\n",
    "    'admission_age': 'Age',\n",
    "    'BMI_admission': 'BMI',\n",
    "    'sex': 'Sex'\n",
    "}\n",
    "\n",
    "# Sets the order for categorical variables\n",
    "order = {\n",
    "    'sex': ['F', 'M'],  # 1 for Female, 0 for Male\n",
    "    'in_hospital_mortality': [0,1]\n",
    "}\n",
    "\n"
   ]
  },
  {
   "cell_type": "code",
   "execution_count": null,
   "id": "c2fee132",
   "metadata": {
    "colab": {
     "base_uri": "https://localhost:8080/",
     "height": 348
    },
    "id": "c2fee132",
    "outputId": "a416b43d-d1a9-4c74-c48e-ad57c2897fb5"
   },
   "outputs": [],
   "source": [
    "TableOne_train_set = TableOne(\n",
    "    data_train_TableOne,  # The dataset to summarize\n",
    "    columns=columns,\n",
    "    categorical=categorical,\n",
    "    groupby=groupby,\n",
    "    nonnormal=nonnormal,\n",
    "    rename=labels,\n",
    "    order=order,\n",
    "    #limit=limit,\n",
    "    overall=True,  # Whether to include overall summary statistics\n",
    "    missing=True,  # Whether to include info about the number of missing values for each variable\n",
    "    pval=True,     # Whether to include p-values for comparisons\n",
    "    decimals=2     # Number of decimal places for numerical values\n",
    ")\n",
    "\n",
    "\n",
    "# Display the table\n",
    "display(TableOne_train_set)"
   ]
  },
  {
   "cell_type": "markdown",
   "id": "n43XVmMVf3n-",
   "metadata": {
    "id": "n43XVmMVf3n-"
   },
   "source": [
    "You can create your own TableOne table with the variables of your choice!"
   ]
  },
  {
   "cell_type": "markdown",
   "id": "fXf_p7yvji0A",
   "metadata": {
    "id": "fXf_p7yvji0A"
   },
   "source": [
    "\n",
    "- Columns & Rows:\n",
    "  * Missing: Number of missing values for each variable.\n",
    "  * Overall: Shows the count and percentage of each subgroup in the entire dataset.\n",
    "  * 0.0 (No Mortality): Shows the count and percentage of each subgroup within the group that did not experience mortality.\n",
    "  * 1.0 (Mortality): Shows the count and percentage of each subgroup within the group that experienced mortality.\n",
    "  * P-Value: Indicates whether there is a statistically significant difference between the distributions of the subgroups across the mortality categories.\n",
    "\n",
    "- Variables:\n",
    "  * admission_age, mean (SD): Mean age at admission with standard deviation (SD). SD measures the amount of variation or dispersion of ages.\n",
    "  * BMI, median [Q1, Q3]: Median Body Mass Index (BMI) with the first quartile (Q1) and third quartile (Q3). Median represents the middle value, and quartiles divide the data into four equal parts.\n",
    "  * Race and Ethnicity, n (%): Number and percentage of patients in different racial and ethnic groups.\n",
    "  * Sex, n (%): Number and percentage of male and female patients.\n",
    "\n",
    "- Grouped by Mortality:\n",
    "  * Statistics for Subgroups: Compares characteristics of patients who survived (0.0) versus those who died (1.0) during their hospital stay.\n",
    "  * P-Value: Indicates whether differences between the mortality groups are statistically significant. A low p-value (typically < 0.05) suggests significant differences.\n",
    "\n",
    "\n",
    "- Observations:\n",
    "  * In the overall dataset, Black individuals make up around 10%.\n",
    "  * If you sum up all the percentages in the row of 0.0 for each separate demographic variable, you will get 100%."
   ]
  },
  {
   "cell_type": "markdown",
   "id": "4e1838ea-5c5b-4443-8d5c-369f0c43afa5",
   "metadata": {
    "id": "4e1838ea-5c5b-4443-8d5c-369f0c43afa5"
   },
   "source": [
    "### Interpretation of the table:\n"
   ]
  },
  {
   "cell_type": "markdown",
   "id": "8nfp7abuiEmN",
   "metadata": {
    "id": "8nfp7abuiEmN"
   },
   "source": [
    "- Question: Can you comment on the table?\n",
    "- Your Answer: ....\n",
    "\n",
    "- My answer:\n",
    "  * Data Representation and Bias: The disproportionate representation of white patients in the dataset might affect the detection of hypoxemia in non-white patients. Since pulse oximeters are known to be less accurate for individuals with darker skin tones, this imbalance could lead to underestimation of hypoxemia in underrepresented groups.\n",
    "\n",
    "  * Clinical Implications: If hypoxemia is not accurately detected due to demographic bias in the dataset, non-white patients might receive suboptimal care. Building models predicting hypoxemia with this dataset without a consideration of the distribution will create models biased towards the white population and will not detect many cases in black patients and other minority races. This analysis highlights the need for diverse datasets to ensure equitable healthcare and accurate hypoxemia detection across all racial/ethnic groups."
   ]
  },
  {
   "cell_type": "markdown",
   "id": "88b12e56",
   "metadata": {
    "id": "88b12e56"
   },
   "source": [
    "# Pre Processing"
   ]
  },
  {
   "cell_type": "markdown",
   "id": "d8b0b3ec-9c88-4cb3-83dd-6931f4e603d0",
   "metadata": {
    "id": "d8b0b3ec-9c88-4cb3-83dd-6931f4e603d0"
   },
   "source": [
    "## Handling Missing values"
   ]
  },
  {
   "cell_type": "code",
   "execution_count": null,
   "id": "feed0e8d-bc50-4959-a08d-61b07fec84f1",
   "metadata": {
    "id": "feed0e8d-bc50-4959-a08d-61b07fec84f1"
   },
   "outputs": [],
   "source": [
    "# Filter Data for Unique Patients to ensure each patient has a unique record\n",
    "df_filtered = data_train.drop_duplicates(subset='unique_subject_id', keep='first')"
   ]
  },
  {
   "cell_type": "markdown",
   "id": "4fbff25b-4c14-4f48-bc54-fe5b0306ee28",
   "metadata": {
    "id": "4fbff25b-4c14-4f48-bc54-fe5b0306ee28"
   },
   "source": [
    "Why? The goal is to ensure that each patient is represented by only one record in the dataset. This is important for statistical analyses where each data point should be independent. Multiple records for the same patient can introduce bias and inaccuracies in the analysis."
   ]
  },
  {
   "cell_type": "code",
   "execution_count": null,
   "id": "b12bd2e8-761a-424b-9c0d-9a38b9e33165",
   "metadata": {
    "colab": {
     "base_uri": "https://localhost:8080/"
    },
    "id": "b12bd2e8-761a-424b-9c0d-9a38b9e33165",
    "outputId": "634fc5f0-a084-4ed8-930b-e9ec21c9bcaf"
   },
   "outputs": [],
   "source": [
    "# Calculate the percentage of missing values per column\n",
    "missing_data_percentage = data_train.isnull().mean() * 100\n",
    "print(\"Percentage of missing values per column:\\n\", missing_data_percentage)"
   ]
  },
  {
   "cell_type": "markdown",
   "id": "A4-vjIUWjCs-",
   "metadata": {
    "id": "A4-vjIUWjCs-"
   },
   "source": [
    "- Question: What additional insights can be gained by analyzing missing values beyond just the overall percentage per column?\n",
    "\n",
    "- Your Answer: ...\n",
    "- My answer: One of the reasons, by analyzing missing values across different racial/ethnic groups, we can identify potential disparities in data collection. For instance, if certain groups exhibit higher rates of missing data, it may indicate biases or issues in the data gathering process."
   ]
  },
  {
   "cell_type": "code",
   "execution_count": null,
   "id": "fc9c4ad0-fe94-46e3-9bc9-7abca3c4029c",
   "metadata": {
    "colab": {
     "base_uri": "https://localhost:8080/",
     "height": 1000
    },
    "id": "fc9c4ad0-fe94-46e3-9bc9-7abca3c4029c",
    "outputId": "2488cc59-42df-4a08-edae-ea0981719e4e"
   },
   "outputs": [],
   "source": [
    "\n",
    "# Calculate percentage of missing values per column and per race\n",
    "\n",
    "# Get all column names from the DataFrame\n",
    "all_columns = data_train.columns\n",
    "\n",
    "# Exclude the 'race_ethnicity' column from the list of all columns\n",
    "all_columns_ex_race = list(set(all_columns) - set(['race_ethnicity']))\n",
    "\n",
    "# Create a copy of the original DataFrame to avoid modifying the original data\n",
    "data_train_missing = data_train.copy()\n",
    "\n",
    "# Replace non-missing values with 0 and missing values with 1 in the copied DataFrame\n",
    "# This will allow us to calculate the percentage of missing values\n",
    "data_train_missing[all_columns_ex_race] = data_train_missing[all_columns_ex_race].isna().astype(int)\n",
    "\n",
    "# Group the DataFrame by 'race_ethnicity' and calculate the mean of missing values for each group\n",
    "# This will give the percentage of missing values per column for each race/ethnicity\n",
    "data_train_missing_by_race = data_train_missing.groupby('race_ethnicity').agg('mean').T\n",
    "\n",
    "# Display the resulting DataFrame with a background gradient to visualize the percentage of missing values\n",
    "display(data_train_missing_by_race.style.background_gradient(cmap='inferno'))"
   ]
  },
  {
   "cell_type": "markdown",
   "id": "hb2r2qXMpK2J",
   "metadata": {
    "id": "hb2r2qXMpK2J"
   },
   "source": [
    "- Question: What observations can you make? Are there any columns that we should consider dropping?\n",
    "\n",
    "- Your answer: ...."
   ]
  },
  {
   "cell_type": "code",
   "execution_count": null,
   "id": "DV3gdEMBkNVw",
   "metadata": {
    "id": "DV3gdEMBkNVw"
   },
   "outputs": [],
   "source": [
    "# When you look at the table, given the large % of missing values compared with the other variables - we are dropping coag_fibrinogen and others_ld_ldh\n",
    "columns_to_drop  = ['coag_fibrinogen', 'others_ld_ldh']\n",
    "data_train.drop(columns=columns_to_drop, inplace=True)\n",
    "data_test.drop(columns=columns_to_drop, inplace=True)"
   ]
  },
  {
   "cell_type": "markdown",
   "id": "1D11rKADleTO",
   "metadata": {
    "id": "1D11rKADleTO"
   },
   "source": [
    "- Question: How do you think we should handle missing values? How should we handle missing values for the test set specifically?\n",
    "\n",
    "- Your answer: ....\n",
    "- My answer: The goal of this approach is to ensure that missing values are imputed in a way that respects the underlying distribution of the data within each race/ethnicity group. For continuous variables, we use the median to avoid the influence of outliers, while for categorical variables, we use the mode to represent the most frequent category. This method helps maintain the integrity of the data and reduces bias in subsequent analyses."
   ]
  },
  {
   "cell_type": "code",
   "execution_count": null,
   "id": "2975459d-ebbe-4680-acc1-75020641c981",
   "metadata": {
    "id": "2975459d-ebbe-4680-acc1-75020641c981"
   },
   "outputs": [],
   "source": [
    "def impute_by_race(df, continuous_vars, categorical_vars):\n",
    "    # Initialize a dictionary to store imputed values for continuous and categorical variables\n",
    "    impute_values = {'continuous': {}, 'categorical': {}}\n",
    "\n",
    "\n",
    "    # Loop through each continuous variable to calculate and store the median value by race/ethnicity\n",
    "    for var in continuous_vars:\n",
    "        # Calculate the median value for each race/ethnicity group and store it in the dictionary\n",
    "        impute_values['continuous'][var] = df.groupby('race_ethnicity')[var].median()\n",
    "\n",
    "        # Impute missing values by filling them with the median value for the respective race/ethnicity group\n",
    "        df[var] = df.groupby('race_ethnicity')[var].transform(lambda x: x.fillna(x.median()))\n",
    "\n",
    "    # Loop through each categorical variable to calculate and store the mode (most frequent value) by race/ethnicity\n",
    "    for var in categorical_vars:\n",
    "        # Calculate the mode for each race/ethnicity group and store it in the dictionary\n",
    "        impute_values['categorical'][var] = df.groupby('race_ethnicity')[var].agg(lambda x: x.mode()[0] if not x.mode().empty else np.nan)\n",
    "\n",
    "        # Impute missing values by filling them with the mode for the respective race/ethnicity group\n",
    "        df[var] = df.groupby('race_ethnicity')[var].transform(lambda x: x.fillna(x.mode()[0] if not x.mode().empty else np.nan))\n",
    "\n",
    "    # Return the dataframe with imputed values and the dictionary of imputed values\n",
    "    return df, impute_values\n",
    "\n",
    "def apply_imputation_for_test_set(test_df, impute_values, continuous_vars, categorical_vars):\n",
    "    # Loop through each continuous variable to apply the stored imputed values to the test set\n",
    "    for var in continuous_vars:\n",
    "        # Loop through each race/ethnicity to apply the respective imputed values\n",
    "        for race in impute_values['continuous'][var].index:\n",
    "            # Apply the imputed median value to the missing values in the test set for the respective race/ethnicity group\n",
    "            test_df.loc[test_df['race_ethnicity'] == race, var] = test_df.loc[test_df['race_ethnicity'] == race, var].fillna(impute_values['continuous'][var][race])\n",
    "\n",
    "    # Loop through each categorical variable to apply the stored imputed values to the test set\n",
    "    for var in categorical_vars:\n",
    "        # Loop through each race/ethnicity to apply the respective imputed values\n",
    "        for race in impute_values['categorical'][var].index:\n",
    "            # Apply the imputed mode value to the missing values in the test set for the respective race/ethnicity group\n",
    "            test_df.loc[test_df['race_ethnicity'] == race, var] = test_df.loc[test_df['race_ethnicity'] == race, var].fillna(impute_values['categorical'][var][race])\n",
    "\n",
    "    # Return the test dataframe with imputed values\n",
    "    return test_df"
   ]
  },
  {
   "cell_type": "markdown",
   "id": "0e761710-0672-4678-9107-f605ea9f6543",
   "metadata": {
    "id": "0e761710-0672-4678-9107-f605ea9f6543"
   },
   "source": [
    "More clarification of the code: The result of the .agg() method is stored in impute_values['categorical'][var]. This will be a Series where the index is the race/ethnicity and the values are the mode of the variable var for each race/ethnicity. In sum, the agg() function is used here to apply the lambda function to each group defined by the 'race_ethnicity' column.\n",
    "\n"
   ]
  },
  {
   "cell_type": "code",
   "execution_count": null,
   "id": "9499a04f-14d6-469e-bc80-0c5f06e465dd",
   "metadata": {
    "id": "9499a04f-14d6-469e-bc80-0c5f06e465dd"
   },
   "outputs": [],
   "source": [
    "# Define continuous and categorical variables\n",
    "\n",
    "categorical_vars = [\n",
    "    'source_db', 'unique_subject_id', 'unique_hospital_admission_id', 'unique_icustay_id',\n",
    "    'sex_female', 'race_ethnicity', 'in_hospital_mortality'\n",
    "]\n",
    "\n",
    "continuous_vars = [\n",
    "    'comorbidity_score_value', 'admission_age', 'BMI_admission', 'weight_admission',\n",
    "    'height_admission', 'sofa_past_overall_24hr', 'sofa_future_overall_24hr',\n",
    "    'vitals_heart_rate', 'vitals_mbp_ni', 'vitals_resp_rate', 'vitals_tempc',\n",
    "    'cbc_wbc', 'cbc_hematocrit', 'cbc_platelet', 'coag_inr',\n",
    "    'bmp_sodium', 'bmp_potassium', 'bmp_chloride', 'bmp_bicarbonate', 'bmp_bun', 'bmp_creatinine',\n",
    "    'bmp_glucose', 'bmp_aniongap', 'bmp_calcium', 'bmp_lactate', 'hfp_alt', 'hfp_alp', 'hfp_ast',\n",
    "    'hfp_bilirubin_total', 'hfp_albumin', 'others_ck_cpk',\n",
    "    'SpO2', 'SaO2', 'pH'\n",
    "]"
   ]
  },
  {
   "cell_type": "code",
   "execution_count": null,
   "id": "01dd3c4d-1400-4761-9d30-db2891d4663b",
   "metadata": {
    "id": "01dd3c4d-1400-4761-9d30-db2891d4663b"
   },
   "outputs": [],
   "source": [
    "data_train_imputed, impute_values = impute_by_race(data_train, continuous_vars, categorical_vars)\n",
    "data_test_imputed = apply_imputation_for_test_set(data_test, impute_values, continuous_vars, categorical_vars)"
   ]
  },
  {
   "cell_type": "code",
   "execution_count": null,
   "id": "11fe801a-823e-4744-80ea-eb260ed3d96b",
   "metadata": {
    "id": "11fe801a-823e-4744-80ea-eb260ed3d96b"
   },
   "outputs": [],
   "source": [
    "# Remove rows where target variable 'in_hospital_mortality' is missing\n",
    "data_train_imputed_final = data_train_imputed.dropna(subset=['in_hospital_mortality'])\n",
    "data_test_imputed_final = data_test_imputed.dropna(subset=['in_hospital_mortality'])"
   ]
  },
  {
   "cell_type": "code",
   "execution_count": null,
   "id": "e2b6c41b-e454-463f-ac0c-87fcbabd05fe",
   "metadata": {
    "colab": {
     "base_uri": "https://localhost:8080/"
    },
    "id": "e2b6c41b-e454-463f-ac0c-87fcbabd05fe",
    "outputId": "c38d6376-9a96-43fd-9523-3b96bfb71ccd"
   },
   "outputs": [],
   "source": [
    "# Check for remaining missing values in the imputed training set\n",
    "missing_data_train = data_train_imputed_final.isnull().sum()\n",
    "missing_columns_train = missing_data_train[missing_data_train > 0]\n",
    "\n",
    "if missing_columns_train.empty:\n",
    "    print(\"There are no missing values in the training set.\")\n",
    "else:\n",
    "    print(\"Columns with remaining missing values in the training set:\\n\", missing_columns_train)\n",
    "\n",
    "# Check for remaining missing values in the imputed test set\n",
    "missing_data_test = data_test_imputed_final.isnull().sum()\n",
    "missing_columns_test = missing_data_test[missing_data_test > 0]\n",
    "\n",
    "if missing_columns_test.empty:\n",
    "    print(\"There are no missing values in the test set.\")\n",
    "else:\n",
    "    print(\"Columns with remaining missing values in the test set:\\n\", missing_columns_test)\n"
   ]
  },
  {
   "cell_type": "markdown",
   "id": "ccac99d4",
   "metadata": {
    "id": "ccac99d4"
   },
   "source": [
    "# Exploratory Data Analysis (EDA)"
   ]
  },
  {
   "cell_type": "markdown",
   "id": "5a2a4d08-efd5-45de-b6d6-b605e57dce0a",
   "metadata": {
    "id": "5a2a4d08-efd5-45de-b6d6-b605e57dce0a"
   },
   "source": [
    "##  Visualization of Mortality per Ethnic Group"
   ]
  },
  {
   "cell_type": "markdown",
   "id": "VeMhbEB8uEVg",
   "metadata": {
    "id": "VeMhbEB8uEVg"
   },
   "source": [
    "- Question: How do you suggest we can do so, and why?\n",
    "- Your answer: ....\n",
    "\n",
    "- My answer: Normalizing the data by calculating the mean instead of the sum ensures that\n",
    "we are comparing the mortality rates relative to the size of each ethnic group.\n",
    "This is important because it allows us to see the proportional impact of mortality\n",
    "across different groups, rather than choosing to plot the number of hospital deaths which is skewed by the total number of patients\n",
    "in each group. This approach helps in identifying if certain groups have a disproportionately\n",
    "higher or lower mortality rate, providing a clearer insight into potential biases or\n",
    "disparities in the data.\n"
   ]
  },
  {
   "cell_type": "code",
   "execution_count": null,
   "id": "f669bf60-cb1e-42f4-b164-c101f6501eea",
   "metadata": {
    "colab": {
     "base_uri": "https://localhost:8080/"
    },
    "id": "f669bf60-cb1e-42f4-b164-c101f6501eea",
    "outputId": "019c1e66-ab8b-4583-9354-a6ea072376cb"
   },
   "outputs": [],
   "source": [
    "# Group by 'ethnicity' and calculate the mean of 'hospital_death' for each group\n",
    "# This will give the avg mortality rate per ethnical group\n",
    "mortality_per_ethnicty = data_train_imputed_final.groupby('race_ethnicity')['in_hospital_mortality'].mean()\n",
    "print (mortality_per_ethnicty)"
   ]
  },
  {
   "cell_type": "code",
   "execution_count": null,
   "id": "4e17d0e8",
   "metadata": {
    "colab": {
     "base_uri": "https://localhost:8080/",
     "height": 653
    },
    "id": "4e17d0e8",
    "outputId": "bdfb2576-5dbd-450b-c9f5-2d8e0d5f771f"
   },
   "outputs": [],
   "source": [
    "# let's plot the results!\n",
    "\n",
    "# Ensure matplotlib uses an inline backend\n",
    "%matplotlib inline\n",
    "\n",
    "# Create the bar plot with a specified figure size\n",
    "plt.figure (figsize =(10,6))\n",
    "\n",
    "# Plot the mean mortality per ethnic group as a bar plot\n",
    "mortality_per_ethnicty.plot(kind = 'bar', color = 'skyblue')\n",
    "\n",
    "# Add labels and titles to the plot for a better understanding\n",
    "plt.xlabel('Ethnicity') # Label for the x-axis\n",
    "plt.ylabel('Mean Hospital Deaths') # Lable for the y-axis\n",
    "plt.title('Mean Mortality per Ethnic Group') # Title of the plot\n",
    "\n",
    "# Rotate the x-axis labels for better readability\n",
    "plt.xticks(rotation = 45)\n",
    "\n",
    "# Display the plot\n",
    "plt.show()"
   ]
  },
  {
   "cell_type": "markdown",
   "id": "d788dc1d",
   "metadata": {
    "id": "d788dc1d"
   },
   "source": [
    "## Initial Analysis of SpO2 and SaO2\n",
    "* Present the statistical summary and visualize the distribution of SpO2 and SaO2 values.\n",
    "* Highlight any differences in SpO2 and SaO2 distributions across different demographic groups (e.g., race_ethnicity, sex).\n",
    "\n",
    "Goal: To explore the distribution of SpO2 and SaO2 values across different demographics. This step helps to identify any preliminary differences or patterns in SpO2 and SaO2 measurements among various groups."
   ]
  },
  {
   "cell_type": "code",
   "execution_count": null,
   "id": "99931ae2",
   "metadata": {
    "colab": {
     "base_uri": "https://localhost:8080/"
    },
    "id": "99931ae2",
    "outputId": "ee471f50-2dfb-4e1c-c077-f4eb3b4e15ce"
   },
   "outputs": [],
   "source": [
    "# Statistical summary of SpO2 values\n",
    "Sp02_summary = data_train_imputed_final['SpO2'].describe()\n",
    "print(\"SpO2 summary:\\n\")\n",
    "print(Sp02_summary.to_string())\n",
    "print (\"\\n\")\n",
    "\n",
    "SaO2_summary = data_train_imputed_final['SaO2'].describe()\n",
    "print(\"SaO2 summary:\\n\")\n",
    "print(SaO2_summary.to_string())"
   ]
  },
  {
   "cell_type": "code",
   "execution_count": null,
   "id": "c407bdda",
   "metadata": {
    "colab": {
     "base_uri": "https://localhost:8080/",
     "height": 459
    },
    "id": "c407bdda",
    "outputId": "b133007f-4881-4cc0-c8b2-487ab0d7e2ac"
   },
   "outputs": [],
   "source": [
    "# Visualization of the Distribution of SpO2 values\n",
    "plt.figure(figsize=(16,6))\n",
    "\n",
    "\n",
    "plt.subplot(1,2,1) # a 1-row, 2-column figure: go to the first subplot\n",
    "sns.histplot(data_train_imputed_final['SpO2'], kde = True)\n",
    "plt.title ('Distribution of SpO2 Values')\n",
    "plt.xlabel('SpO2')\n",
    "plt.ylabel('Frequency')\n",
    "\n",
    "\n",
    "# Visualization of the Distribution of SaO2 values\n",
    "plt.subplot(1,2,2)\n",
    "sns.histplot(data_train_imputed_final['SaO2'], kde = True)\n",
    "plt.title ('Distribution of SaO2 Values')\n",
    "plt.xlabel('SaO2')\n",
    "plt.ylabel('Frequency')\n",
    "\n",
    "# Adjust the space between the 2 subplots\n",
    "plt.subplots_adjust (wspace = 0.2)\n",
    "\n",
    "plt.show()"
   ]
  },
  {
   "cell_type": "markdown",
   "id": "90e8fd7e",
   "metadata": {
    "id": "90e8fd7e"
   },
   "source": [
    "- Question: What key insights can you derive from theses plots?\n",
    "\n",
    "- Your answer: .....\n",
    "\n",
    "\n",
    "- My answer:\n",
    "  * High Frequency of 100% SpO2 Readings: The distribution of SpO2 values shows a sharp increase in frequency at the higher end, particularly around 100. This indicates that pulse oximeters frequently report near-100 oxygen saturation levels, suggesting potential issues with overestimation or insensitivity to lower oxygen saturation levels.\n",
    "\n",
    "  * Wider Distribution and Lower Peak for SaO2 Values: The SaO2 distribution is broader and does not show the same sharp peak at the higher end as the SpO2 distribution. This suggests that the more accurate arterial blood gas measurements capture a wider range of oxygen saturation levels and are less likely to overestimate saturation, highlighting the discrepancy between noninvasive and invasive measurements."
   ]
  },
  {
   "cell_type": "markdown",
   "id": "UsjxDOp6ntkr",
   "metadata": {
    "id": "UsjxDOp6ntkr"
   },
   "source": [
    "### Comparison of Arterial Oxygen Saturation by Pulse Oximetry Readings"
   ]
  },
  {
   "cell_type": "code",
   "execution_count": null,
   "id": "7eFM7vIAvWgo",
   "metadata": {
    "colab": {
     "base_uri": "https://localhost:8080/",
     "height": 611
    },
    "id": "7eFM7vIAvWgo",
    "outputId": "a9eada28-e5a9-4be4-a1bf-e9c384fbf785"
   },
   "outputs": [],
   "source": [
    "# Create a copy of the relevant columns from the original DataFrame, filtering only 'White' and 'Black' races\n",
    "df = data_train_imputed_final.copy()[['SpO2','SaO2','race_ethnicity']][data_train_imputed_final['race_ethnicity'].isin(['White','Black'])]\n",
    "\n",
    "# Import the linregress function from scipy.stats for performing linear regression, and t for statistical tests\n",
    "from scipy.stats import linregress, t\n",
    "\n",
    "# Create a new DataFrame that only includes rows where SpO2 is greater than or equal to 89\n",
    "df89 = df.copy()[df.SpO2 >= 89]\n",
    "\n",
    "# Group the DataFrame by 'race_ethnicity'\n",
    "races = df89.groupby('race_ethnicity')\n",
    "\n",
    "# Create a matplotlib figure and axes for plotting\n",
    "fig, ax = plt.subplots()\n",
    "\n",
    "# Define the x-value where we want to calculate the intercept\n",
    "x_start = 89\n",
    "\n",
    "# Define offsets for plotting each race separately to avoid overlapping points\n",
    "offsets = {'White': -0.2, 'Black': 0.}\n",
    "\n",
    "# Loop through each group (race) and perform linear regression\n",
    "for name, race in races:\n",
    "    # Perform linear regression between SpO2 and SaO2 for the current race group\n",
    "    slope, intercept, r_value, p_value, std_err = linregress(race['SpO2'], race['SaO2'])\n",
    "\n",
    "    # Calculate the intercept at x = 89 using the regression line equation\n",
    "    intercept_at_x_start = slope * x_start + intercept\n",
    "\n",
    "    # Plot the regression line with an offset for each race group to avoid overlapping points\n",
    "    offset_x = race['SpO2'] + offsets[name]\n",
    "    ax.plot(offset_x, race['SaO2'], 'o', label=f'Race {name}')\n",
    "    ax.plot(race['SpO2'], slope * race['SpO2'] + intercept, label=f'Race {name} fit: y={slope:.2f}(x - {x_start} )+{intercept_at_x_start:.2f}')\n",
    "\n",
    "    # Print the slope and intercept for each race group\n",
    "    print(f'Race {name}:')\n",
    "    print(f'  Slope: {slope:.2f}')\n",
    "    print(f'  Intercept at x={x_start}: {intercept_at_x_start:.2f}')\n",
    "    print()\n",
    "\n",
    "\n",
    "# Add a legend to the plot to distinguish between the different races\n",
    "ax.legend()\n",
    "\n",
    "# Label the x-axis as 'SpO2'\n",
    "plt.xlabel('SpO2')\n",
    "\n",
    "# Label the y-axis as 'SaO2'\n",
    "plt.ylabel('SaO2')\n",
    "\n",
    "# Set the title of the plot\n",
    "plt.title('Regression Lines for Different Races')\n",
    "\n",
    "# Display the plot\n",
    "plt.show()\n",
    "\n",
    "\n",
    "\n",
    "\n"
   ]
  },
  {
   "cell_type": "markdown",
   "id": "Z3VJHqoIphMJ",
   "metadata": {
    "id": "Z3VJHqoIphMJ"
   },
   "source": [
    "- Question: What key insights can you derive from this plot?\n",
    "- Your answer:\n",
    "- My answer: The plot suggests that Black patients generally have lower oxygen saturation levels (SaO2) compared to White patients, even when their SpO2 readings are the same. This indicates a disparity where the same SpO2 value corresponds to a lower SaO2 for Black patients than for White patients.\n",
    "\n"
   ]
  },
  {
   "cell_type": "markdown",
   "id": "8d8d83f0",
   "metadata": {
    "id": "8d8d83f0"
   },
   "source": [
    "## Analysis of Hypoxemia using SpO2 and SaO2 individually\n",
    "\n",
    "* Define hypoxemia using a threshold for SpO2 and SaO2.\n",
    "* Compare the incidence of hypoxemia across different demographic groups.\n",
    "* Highlight any disparities that may indicate bias in SpO2 measurements.\n",
    "\n",
    "Goal: To compare SpO2 and SaO2 values side by side and examine the incidence of hypoxemia using both measurements. This step highlights the discrepancies and biases in SpO2 measurements by analyzing hypoxemia based on SaO2 measurements and compare it with SpO2-based analysis. This step emphasizes the importance of SaO2 measurements in revealing hidden hypoxemia that SpO2 alone might miss."
   ]
  },
  {
   "cell_type": "code",
   "execution_count": null,
   "id": "9052964c",
   "metadata": {
    "colab": {
     "base_uri": "https://localhost:8080/"
    },
    "id": "9052964c",
    "outputId": "69838612-8030-455d-f5cd-b0781090c102"
   },
   "outputs": [],
   "source": [
    "\n",
    "\n",
    "# Create a copy of the DataFrame\n",
    "data_train_imputed_final_copy = data_train_imputed_final.copy()\n",
    "\n",
    "\n",
    "# Define Hypoxemia based on SpO2 threshold (e.g. SpO2 < 88%) and SpO2 threshold (e.g. SpO2 < 88%)\n",
    "data_train_imputed_final_copy ['hypoxemia_SpO2'] = data_train_imputed_final_copy ['SpO2'] < 88\n",
    "data_train_imputed_final_copy ['hypoxemia_SaO2'] = data_train_imputed_final_copy ['SaO2'] < 88\n",
    "\n",
    "# Incidence of hypoxemia by race_ethnicity\n",
    "hypoxemia_by_race_SpO2 = data_train_imputed_final_copy.groupby('race_ethnicity')['hypoxemia_SpO2'].mean().reset_index()\n",
    "hypoxemia_by_race_SaO2 = data_train_imputed_final_copy.groupby('race_ethnicity')['hypoxemia_SaO2'].mean().reset_index()\n",
    "    # The mean value represents the proportion of patients with hypoxemia in each racial/ethnic group.\n",
    "\n",
    "\n",
    "hypoxemia_by_race_SpO2.columns = ['race_ethnicity', 'hypoxemia_incidence']\n",
    "hypoxemia_by_race_SaO2.columns = ['race_ethnicity', 'hypoxemia_incidence']\n",
    "hypoxemia_by_race_SpO2['hypoxemia_incidence'] *= 100\n",
    "hypoxemia_by_race_SaO2['hypoxemia_incidence'] *= 100\n",
    "\n",
    "\n",
    "\n",
    "print(\"SpO2:\\n\")\n",
    "print (hypoxemia_by_race_SpO2)\n",
    "print('\\n')\n",
    "print(\"SaO2:\\n\")\n",
    "print (hypoxemia_by_race_SaO2)\n"
   ]
  },
  {
   "cell_type": "markdown",
   "id": "366327f9",
   "metadata": {
    "id": "366327f9"
   },
   "source": [
    "### Hypoxemia Incidence"
   ]
  },
  {
   "cell_type": "code",
   "execution_count": null,
   "id": "6f9bfd62",
   "metadata": {
    "colab": {
     "base_uri": "https://localhost:8080/",
     "height": 807
    },
    "id": "6f9bfd62",
    "outputId": "323cf01f-fe92-45eb-b8ac-d8c2fb77858a"
   },
   "outputs": [],
   "source": [
    "# Visualization\n",
    "plt.figure(figsize=(12,8))\n",
    "\n",
    "\n",
    "# Define the common y-axis limit\n",
    "y_max = max(hypoxemia_by_race_SpO2['hypoxemia_incidence'].max(), hypoxemia_by_race_SaO2['hypoxemia_incidence'].max())\n",
    "# y_min = min(hypoxemia_by_race_SpO2['hypoxemia_incidence'].min(), hypoxemia_by_race_SaO2['hypoxemia_incidence'].min())\n",
    "\n",
    "# a 1-row, 2-column figure: go to the first subplot\n",
    "plt.subplot(1,2,1)\n",
    "sns.barplot(x='race_ethnicity', y='hypoxemia_incidence', data = hypoxemia_by_race_SpO2)\n",
    "plt.title ('Hypoxemia Incidence - SpO2')\n",
    "plt.xlabel('Race/Ethnicity')\n",
    "plt.ylabel ('Hypoxemia Incidence (%)')\n",
    "plt.xticks(rotation = 45)\n",
    "plt.ylim(0,y_max)\n",
    "\n",
    "\n",
    "# a 1-row, 2-column figure: go to the second subplot\n",
    "plt.subplot(1,2,2)\n",
    "sns.barplot(x='race_ethnicity', y='hypoxemia_incidence', data = hypoxemia_by_race_SaO2)\n",
    "plt.title ('Hypoxemia Incidence - SaO2')\n",
    "plt.xlabel('Race/Ethnicity')\n",
    "plt.ylabel ('Hypoxemia Incidence (%)')\n",
    "plt.xticks(rotation = 45)\n",
    "plt.ylim(0,y_max)\n",
    "\n",
    "# Adjust the space between the 2 subplots\n",
    "plt.subplots_adjust (wspace = 0.2)\n",
    "\n",
    "plt.show()"
   ]
  },
  {
   "cell_type": "markdown",
   "id": "ed30a59d",
   "metadata": {
    "id": "ed30a59d"
   },
   "source": [
    "- Question: What key insights can you derive from theses plots?\n",
    "- Your answer: ....\n",
    "\n",
    "\n",
    "- My answer:\n",
    "  * The disparity between the incidence of hypoxemia based on SpO2 and SaO2 measurements  indicates that relying only on SpO2 can lead to underestimation of hypoxemia, especially in certain racial-ethnic groups.\n",
    "  * The analysis reveals that SaO2 measurements uncover hidden hypoxemia cases not detected by SpO2 alone."
   ]
  },
  {
   "cell_type": "markdown",
   "id": "4053ee6a",
   "metadata": {
    "id": "4053ee6a"
   },
   "source": [
    "## Hidden Hypoxemia\n",
    "This brings us to the concept of hidden hypoxemia. Hidden hypoxemia occurs when patients exhibit low blood oxygen levels that are not detected by pulse oximetry. The accuracy issues and dataset imbalances can exacerbate this problem, particularly in non-white populations. In the next section, we will explore the prevalence of hidden hypoxemia across different racial and ethnic groups, highlighting the critical need for accurate and equitable diagnostic tools in clinical settings.\n",
    "\n",
    "\n",
    "* Identify hidden hypoxemia using both SpO2 and SaO2 measurements.\n",
    "* Compare the incidence of hidden hypoxemia across different demographic groups.\n",
    "* Highlight how the bias in SpO2 measurements can lead to hidden hypoxemia, particularly in certain demographic groups.\n",
    "\n",
    "Goal: To identify hidden hypoxemia (patients with normal SpO2 but low SaO2) and analyze its prevalence across different demographics. This step uncovers the hidden bias in SpO2 measurements and shows how certain groups are disproportionately affected.\n"
   ]
  },
  {
   "cell_type": "markdown",
   "id": "522eac11",
   "metadata": {
    "id": "522eac11"
   },
   "source": [
    "### Hidden Hypoxemia - SpO2 & SaO2"
   ]
  },
  {
   "cell_type": "code",
   "execution_count": null,
   "id": "dcadab09",
   "metadata": {
    "colab": {
     "base_uri": "https://localhost:8080/"
    },
    "id": "dcadab09",
    "outputId": "13d7267e-8caf-4e13-9e2b-d4dc7329dcec"
   },
   "outputs": [],
   "source": [
    "\n",
    "data_test_imputed_final['hidden_hypoxemia'] = data_test_imputed_final.apply(lambda row: row['SpO2'] >= 88 and row['SaO2'] < 88, axis=1)\n",
    "\n",
    "\n",
    "# Identify hidden hypoxemia (SpO2 >= 88% and SaO2 < 88%)\n",
    "data_train_imputed_final['hidden_hypoxemia'] = data_train_imputed_final.apply(lambda row: row['SpO2'] >= 88 and row['SaO2'] < 88, axis=1)\n",
    "\n",
    "# Incidence of hidden hypoxemia by race_ethnicity\n",
    "hidden_hypoxemia_by_race = data_train_imputed_final.groupby('race_ethnicity')['hidden_hypoxemia'].mean().reset_index()\n",
    "hidden_hypoxemia_by_race.columns = ['race_ethnicity', 'hidden_hypoxemia_incidence']\n",
    "hidden_hypoxemia_by_race['hidden_hypoxemia_incidence'] *= 100\n",
    "\n",
    "print(hidden_hypoxemia_by_race)"
   ]
  },
  {
   "cell_type": "code",
   "execution_count": null,
   "id": "2133315d",
   "metadata": {
    "colab": {
     "base_uri": "https://localhost:8080/",
     "height": 807
    },
    "id": "2133315d",
    "outputId": "4bad3e83-853a-4da8-c51b-6b63cc057bad"
   },
   "outputs": [],
   "source": [
    " # Visualization\n",
    "plt.figure(figsize=(12, 8))\n",
    "sns.barplot(x='race_ethnicity', y='hidden_hypoxemia_incidence', data=hidden_hypoxemia_by_race)\n",
    "plt.title('Hidden Hypoxemia Incidence by Race/Ethnicity')\n",
    "plt.xlabel('Race/Ethnicity')\n",
    "plt.ylabel('Hidden Hypoxemia Incidence (%)')\n",
    "plt.xticks(rotation = 45)\n",
    "\n",
    "plt.show()\n",
    "\n"
   ]
  },
  {
   "cell_type": "markdown",
   "id": "83e07335",
   "metadata": {
    "id": "83e07335"
   },
   "source": [
    "- Question: What key insights can you derive from this plot?\n",
    "- Your answer: ....\n",
    "\n",
    "\n",
    "- My answer: The higher incidence of hidden hypoxemia in Black patients further supports the notion of bias in SpO2 measurements. Pulse oximeters may be less accurate for individuals with darker skin, resulting in normal SpO2 readings despite low SaO2 levels. This can lead to missed diagnoses and delayed treatment for hypoxemia."
   ]
  },
  {
   "cell_type": "markdown",
   "id": "d436996f",
   "metadata": {
    "id": "d436996f",
    "jp-MarkdownHeadingCollapsed": true
   },
   "source": [
    "### Conclusion:\n",
    "\n",
    "* Objective: To identify hidden hypoxemia by considering both SpO2 and SaO2 measurements and to compare its incidence across different racial/ethnic groups.\n",
    "* Findings: The analysis of hidden hypoxemia shows even more pronounced disparities, with Black patients having the highest incidence.\n",
    "* Implication: The high incidence of hidden hypoxemia in Black patients indicates that relying solely on SpO2 can miss cases of low blood oxygen levels, particularly in this group. This highlights the importance of considering SaO2 measurements to ensure accurate diagnosis and treatment.\n",
    "\n",
    "The analysis highlights the importance of considering both SpO2 and SaO2 measurements in clinical settings, especially for patients from racial/ethnic groups that may be more susceptible to inaccuracies in SpO2 readings."
   ]
  },
  {
   "cell_type": "markdown",
   "id": "be15b4f0-d655-4b61-bd1c-0a9f18f7f4b6",
   "metadata": {
    "id": "be15b4f0-d655-4b61-bd1c-0a9f18f7f4b6"
   },
   "source": [
    "# Modeling"
   ]
  },
  {
   "cell_type": "markdown",
   "id": "3058fc5c-5d71-4c94-98f0-aad39b9dba93",
   "metadata": {
    "id": "3058fc5c-5d71-4c94-98f0-aad39b9dba93"
   },
   "source": [
    "## SpO2 modifications - exaggerating the bias\n",
    "This first step is important in the tutorial as it simulates the impact of a known bias in medical devices, specifically pulse oximeters, which often overestimate blood oxygen levels in Black patients. By artificially increasing SpO2 values for Black patients by 10%, we create a dataset that exaggerates this bias. This allows us to analyze how such inaccuracies affect downstream clinical predictions, such as mortality, and highlights the need for fair and accurate data in healthcare machine learning models.\n"
   ]
  },
  {
   "cell_type": "code",
   "execution_count": null,
   "id": "7fe2eaaa-3b95-4785-b924-764582bcbdf5",
   "metadata": {
    "colab": {
     "base_uri": "https://localhost:8080/"
    },
    "id": "7fe2eaaa-3b95-4785-b924-764582bcbdf5",
    "outputId": "9421ffe6-3956-43b9-d72b-79a43221bc9f"
   },
   "outputs": [],
   "source": [
    "# Display the baseline distribution of SpO2\n",
    "print(\"Baseline SpO2 Distribution:\")\n",
    "print(data_train_imputed_final['SpO2'].describe())"
   ]
  },
  {
   "cell_type": "code",
   "execution_count": null,
   "id": "d9ad6638-8432-44b3-b558-37326425a9e9",
   "metadata": {
    "id": "d9ad6638-8432-44b3-b558-37326425a9e9"
   },
   "outputs": [],
   "source": [
    "# Add bias to Black patients' SpO2\n",
    "delta_to_add = 10\n",
    "\n",
    "data_train_imputed_final['SpO2_exaggerated'] = data_train_imputed_final.apply(\n",
    "    lambda row: min(row['SpO2'] + delta_to_add, 100) if row['race_ethnicity'] == 'Black' else row['SpO2'],\n",
    "    axis=1\n",
    ")\n",
    "\n",
    "\n",
    "data_test_imputed_final['SpO2_exaggerated'] = data_test_imputed_final.apply(\n",
    "    lambda row: min(row['SpO2'] + delta_to_add, 100) if row['race_ethnicity'] == 'Black' else row['SpO2'],\n",
    "    axis=1\n",
    ")"
   ]
  },
  {
   "cell_type": "code",
   "execution_count": null,
   "id": "7710ab66-2e4c-4f82-bb26-f2b3ee5a754d",
   "metadata": {
    "colab": {
     "base_uri": "https://localhost:8080/"
    },
    "id": "7710ab66-2e4c-4f82-bb26-f2b3ee5a754d",
    "outputId": "b6c09324-e827-49d7-bac0-5fbce08bde44"
   },
   "outputs": [],
   "source": [
    "# Compare both distributions for Black patients before and after modification\n",
    "print(\"Before modification:\")\n",
    "print(data_train_imputed_final.loc[data_train_imputed_final['race_ethnicity'] == 'Black', 'SpO2'].describe())\n",
    "\n",
    "print (\"\\n\")\n",
    "print(\"After modification:\")\n",
    "print(data_train_imputed_final.loc[data_train_imputed_final['race_ethnicity'] == 'Black', 'SpO2_exaggerated'].describe())\n"
   ]
  },
  {
   "cell_type": "markdown",
   "id": "29a1b3bd-2284-4baf-a448-0b8f572daafe",
   "metadata": {
    "id": "29a1b3bd-2284-4baf-a448-0b8f572daafe"
   },
   "source": [
    "There is a 1% difference in the median which shows the impact of the introduced bias.\n",
    "N.B: The median is derived from the .describe() function, which provides various statistical summaries of the data, including the median (50% value)."
   ]
  },
  {
   "cell_type": "code",
   "execution_count": null,
   "id": "5e28c6b5-832f-491c-bd58-27cbef68f5b3",
   "metadata": {
    "colab": {
     "base_uri": "https://localhost:8080/"
    },
    "id": "5e28c6b5-832f-491c-bd58-27cbef68f5b3",
    "outputId": "bcbadc43-c11d-4ed1-dc6d-6e670c4ee822"
   },
   "outputs": [],
   "source": [
    "data_train_imputed_final.columns"
   ]
  },
  {
   "cell_type": "code",
   "execution_count": null,
   "id": "735faf6a-cc50-467d-9ece-fb1a3eff29fa",
   "metadata": {
    "colab": {
     "base_uri": "https://localhost:8080/"
    },
    "id": "735faf6a-cc50-467d-9ece-fb1a3eff29fa",
    "outputId": "93163f0b-25a0-492b-8a5f-9926bb11c5f3"
   },
   "outputs": [],
   "source": [
    "# Check for remaining missing values in the imputed training set\n",
    "missing_data_train = data_train_imputed_final.isnull().sum()\n",
    "missing_columns_train = missing_data_train[missing_data_train > 0]\n",
    "\n",
    "if missing_columns_train.empty:\n",
    "    print(\"There are no missing values in the training set.\")\n",
    "else:\n",
    "    print(\"Columns with remaining missing values in the training set:\\n\", missing_columns_train)"
   ]
  },
  {
   "cell_type": "markdown",
   "id": "d7383e5f-4050-4e81-8f5b-1b926eff78e9",
   "metadata": {
    "id": "d7383e5f-4050-4e81-8f5b-1b926eff78e9"
   },
   "source": [
    "## Encoding\n",
    "\n",
    "Since the machine learning model in the background models and finds patterns in our data. It only supports numeric values. For this reason, categorical variables must be coded to numeric values.\n",
    "\n",
    "Categorical variables can be of 3 types:\n",
    "* Binary variables: Binary variables can be represented with two values, 1 and 0. Examples are whether or not the variable belongs to a group.\n",
    "* Ordinal variables: Ordinal variables are a type of variables that have a specific order and can be represented with numeric variables through a label encoder. An example is High, Medium, and Low which can be represented as 3, 2, 1.\n",
    "* Nominal variables: Nominal variables are categorical variables that do not have a defined order, for these variables it is not recommended to use a label encoder, it is better to use one hot encoder in these cases."
   ]
  },
  {
   "cell_type": "code",
   "execution_count": null,
   "id": "42494eec-afbe-4d0c-9ce5-d48cd685171c",
   "metadata": {
    "id": "42494eec-afbe-4d0c-9ce5-d48cd685171c"
   },
   "outputs": [],
   "source": [
    "unique_values = data_train_imputed_final.apply(lambda x: x.unique())"
   ]
  },
  {
   "cell_type": "code",
   "execution_count": null,
   "id": "307070b0-ec32-461f-9633-e11e8a596bd5",
   "metadata": {
    "colab": {
     "base_uri": "https://localhost:8080/",
     "height": 1000
    },
    "id": "307070b0-ec32-461f-9633-e11e8a596bd5",
    "outputId": "aa13c2d6-682b-4744-9081-e9c796b15aec"
   },
   "outputs": [],
   "source": [
    "unique_values"
   ]
  },
  {
   "cell_type": "markdown",
   "id": "3c7d8887-e43e-4ab5-a6f7-3312ed37930c",
   "metadata": {
    "id": "3c7d8887-e43e-4ab5-a6f7-3312ed37930c"
   },
   "source": [
    "## Standardization\n",
    "- Why Standardization?\n",
    "Standardization is generally preferred when dealing with datasets that contain outliers, features with different scales, or when the model assumptions align better with standardized data. It helps to reduce the influence of outliers, stabilize model coefficients, and improve the performance and interpretability of many machine learning algorithms. Normalization, on the other hand, is useful when the absolute scale of the features is important or when using algorithms that are sensitive to the range of the data.\n",
    "\n",
    "- Remember:\n",
    "    * When features are not on similar scales, some algorithms may be more heavily influenced by certain features than others, which can lead to suboptimal performance. Additionally, some algorithms (such as those based on distance calculations) can be sensitive to differences in scale between features, which can lead to incorrect results.\n",
    "    * By standardizing the data, we can ensure that each feature contributes equally to the model, regardless of its scale. This can lead to better accuracy and more robust models.\n",
    "\n",
    "\n",
    "\n",
    "Note: Use the function to normalize the data. Remember to exclude information that does not contribute to the final model, such as identifiers."
   ]
  },
  {
   "cell_type": "code",
   "execution_count": null,
   "id": "8ea23eca-c62b-4671-85bf-5b67792f8f9e",
   "metadata": {
    "id": "8ea23eca-c62b-4671-85bf-5b67792f8f9e"
   },
   "outputs": [],
   "source": [
    "data_train_imputed_final = data_train_imputed_final.drop(['sex'], axis=1)"
   ]
  },
  {
   "cell_type": "code",
   "execution_count": null,
   "id": "eef34f34-a342-48b8-9696-d319ec4efe51",
   "metadata": {
    "id": "eef34f34-a342-48b8-9696-d319ec4efe51"
   },
   "outputs": [],
   "source": [
    "# Define a function standardized_data\n",
    "\n",
    "def standardized_data(train_data, test_data=None, scaler=None, ignore_cols=[]):\n",
    "\n",
    "    train_data_filtered = train_data\n",
    "\n",
    "    # Drop columns that should not be standardized (e.g., identifiers)\n",
    "    train_data_filtered = train_data_filtered.drop(ignore_cols, axis=1, errors='ignore')\n",
    "    if test_data is not None:\n",
    "        test_data_filtered = test_data.drop(ignore_cols, axis=1, errors='ignore')\n",
    "\n",
    "    # If no scaler is provided, initialize a StandardScaler\n",
    "    if not scaler:\n",
    "        scaler = StandardScaler()\n",
    "        scaler.fit(train_data_filtered)  # Fit the scaler on the training data\n",
    "\n",
    "    # Transform the training data using the scaler\n",
    "    standardized_train = scaler.transform(train_data_filtered)\n",
    "\n",
    "    # Convert the standardized data back to a DataFrame with the same columns as train_data_filtered\n",
    "    standardized_train_df = pd.DataFrame(standardized_train, columns=train_data_filtered.columns)\n",
    "\n",
    "    # If test data is provided, transform it using the same scaler\n",
    "    if test_data is not None:\n",
    "        # Normalize the test data\n",
    "        standardized_test = scaler.transform(test_data_filtered)\n",
    "                ##### note here - to ensure there is no data leakage we are using the scaler fitted on the training data to transform the test data (so the test data stays protected)\n",
    "        # Convert the standardized test data back to a DataFrame with the same columns as test_data_filtered\n",
    "        standardized_test_df = pd.DataFrame(standardized_test, columns=test_data_filtered.columns)\n",
    "\n",
    "        # Return the standardized training and test data along with the scaler\n",
    "        return standardized_train_df, standardized_test_df, scaler\n",
    "    else:\n",
    "        # If no test data is provided, return only the standardized training data and the scaler\n",
    "        return standardized_train_df, scaler"
   ]
  },
  {
   "cell_type": "markdown",
   "id": "8f73ba15-ee82-4a77-bb83-a9ec89ee015c",
   "metadata": {
    "id": "8f73ba15-ee82-4a77-bb83-a9ec89ee015c"
   },
   "source": [
    "Note: Why Return the Scaler? Returning the scaler allows you to use the same scaler for any future data transformations, ensuring consistency. This is especially important if you need to apply the same scaling to new data or to reverse the scaling transformation.\n",
    "\n",
    "How to know what columns to include? You should exclude identifiers and categorical variables that are not intended to be scaled"
   ]
  },
  {
   "cell_type": "code",
   "execution_count": null,
   "id": "4f46a09b-d1f2-4142-9ef8-405d0fc57dff",
   "metadata": {
    "id": "4f46a09b-d1f2-4142-9ef8-405d0fc57dff"
   },
   "outputs": [],
   "source": [
    "# Define the columns to ignore during normalization (identifiers and categorical variables)\n",
    "ignore_cols = [\n",
    "    'unique_subject_id', 'unique_hospital_admission_id', 'unique_icustay_id',\n",
    "    'source_db', 'sex_female', 'race_ethnicity', 'in_hospital_mortality', 'hidden_hypoxemia'\n",
    "]"
   ]
  },
  {
   "cell_type": "code",
   "execution_count": null,
   "id": "0fec9fc5-07bd-4341-8af2-c0c8919465ef",
   "metadata": {
    "colab": {
     "base_uri": "https://localhost:8080/"
    },
    "id": "0fec9fc5-07bd-4341-8af2-c0c8919465ef",
    "outputId": "01bc6304-dd6d-4e0b-a870-9be66cac5664"
   },
   "outputs": [],
   "source": [
    "from sklearn.preprocessing import StandardScaler\n",
    "\n",
    "\n",
    "final_standardized_train, final_standardized_test, scaler = standardized_data(\n",
    "    data_train_imputed_final, data_test_imputed_final, ignore_cols=ignore_cols\n",
    ")\n",
    "\n",
    "# Selecting ignored columns\n",
    "ignored_columns_train = data_train_imputed_final[ignore_cols]\n",
    "ignored_columns_test = data_test_imputed_final[ignore_cols]\n",
    "\n",
    "# Reset indices to ensure alignment before concatenation\n",
    "ignored_columns_train = ignored_columns_train.reset_index(drop=True)\n",
    "final_standardized_train = final_standardized_train.reset_index(drop=True)\n",
    "\n",
    "ignored_columns_test = ignored_columns_test.reset_index(drop=True)\n",
    "final_standardized_test = final_standardized_test.reset_index(drop=True)\n",
    "\n",
    "# Merge the ignored columns with the standardized columns\n",
    "final_standardized_train = pd.concat([ignored_columns_train, final_standardized_train], axis=1)\n",
    "final_standardized_test = pd.concat([ignored_columns_test, final_standardized_test], axis=1)\n",
    "\n",
    "\n",
    "# Display the shapes of the DataFrames for verification\n",
    "print(\"Final standardized train shape:\", final_standardized_train.shape)\n",
    "print(\"Final standardized test shape:\", final_standardized_test.shape)"
   ]
  },
  {
   "cell_type": "markdown",
   "id": "4a16e7d8-423d-4f22-aa10-d6b8ba6db529",
   "metadata": {
    "id": "4a16e7d8-423d-4f22-aa10-d6b8ba6db529"
   },
   "source": [
    "## Defining our X_train, y_train, X_test, y_test\n"
   ]
  },
  {
   "cell_type": "code",
   "execution_count": null,
   "id": "NqntuoKRKkAp",
   "metadata": {
    "colab": {
     "base_uri": "https://localhost:8080/",
     "height": 206
    },
    "id": "NqntuoKRKkAp",
    "outputId": "4e781572-e1d1-47c3-af72-b31ebdef9d13"
   },
   "outputs": [],
   "source": [
    "data_train_imputed_final.groupby(\"race_ethnicity\")['in_hospital_mortality'].describe() # to see how many races in our X train"
   ]
  },
  {
   "cell_type": "code",
   "execution_count": null,
   "id": "45835b9d-05bb-43db-b7cb-0a7593f04daa",
   "metadata": {
    "colab": {
     "base_uri": "https://localhost:8080/"
    },
    "id": "45835b9d-05bb-43db-b7cb-0a7593f04daa",
    "outputId": "2b5c209b-ffe7-487d-ea51-cd80436f97fe"
   },
   "outputs": [],
   "source": [
    "# List of columns to exclude from the feature matrix\n",
    "exclude_cols = [\n",
    "    'sofa_future_overall_24hr', 'sofa_past_overall_24hr',\n",
    "    'unique_subject_id', 'unique_hospital_admission_id',\n",
    "    'unique_icustay_id', 'source_db', 'race_ethnicity', 'in_hospital_mortality'\n",
    "]\n",
    "\n",
    "# Define the feature matrix X and target variable y for training and test sets\n",
    "X_train = final_standardized_train.drop(exclude_cols, axis=1)\n",
    "y_train = final_standardized_train['in_hospital_mortality']\n",
    "\n",
    "X_test = final_standardized_test.drop(exclude_cols, axis=1)\n",
    "y_test = final_standardized_test['in_hospital_mortality']\n",
    "\n",
    "# Check lengths and indices\n",
    "print(f\"Length of X_train: {len(X_train)}\")\n",
    "print(f\"Length of y_train: {len(y_train)}\")\n",
    "print(f\"X_train indices: {X_train.index}\")\n",
    "print(f\"y_train indices: {y_train.index}\")"
   ]
  },
  {
   "cell_type": "markdown",
   "id": "0f92fe25-5836-4140-8d2e-a63895e2380b",
   "metadata": {
    "id": "0f92fe25-5836-4140-8d2e-a63895e2380b"
   },
   "source": [
    "## Step 1: Understanding the influence of hidden hypoxemia on patient outcomes\n",
    "* Following the paper's approach, we are going to perform univariate and multivariate logistic regression to assess binary endpoints (e.g., in-hospital mortality) while adjusting for other covariates (e.g., age, sex, SOFA score), and to use analysis of variance to test for the impact of hidden hypoxemia.\n",
    "\n",
    "* Goal: Assess the impact of hidden hypoxemia by analyzing its effect on patient outcomes like in-hospital mortality."
   ]
  },
  {
   "cell_type": "markdown",
   "id": "AXmJ1W2ZvtZl",
   "metadata": {
    "id": "AXmJ1W2ZvtZl"
   },
   "source": [
    "### Univariate Logistic Regression"
   ]
  },
  {
   "cell_type": "code",
   "execution_count": null,
   "id": "QpJjAie-wOwx",
   "metadata": {
    "colab": {
     "base_uri": "https://localhost:8080/",
     "height": 1000
    },
    "id": "QpJjAie-wOwx",
    "outputId": "370ea2ff-3c4b-4ce3-ddb1-ecd577fec363"
   },
   "outputs": [],
   "source": [
    "import statsmodels.api as sm  # Add statsmodels for logistic regression\n",
    "import numpy as np\n",
    "import pandas as pd\n",
    "\n",
    "# List of variables to analyze\n",
    "vars = ['admission_age',\n",
    "        'sex_female',\n",
    "        'BMI_admission',\n",
    "        'vitals_heart_rate', 'vitals_mbp_ni',\n",
    "        'vitals_resp_rate', 'vitals_tempc',\n",
    "        'cbc_wbc', 'cbc_hematocrit',\n",
    "        'cbc_platelet', 'coag_inr', 'bmp_sodium',\n",
    "        'bmp_potassium', 'bmp_chloride', 'bmp_bicarbonate', 'bmp_bun',\n",
    "        'bmp_creatinine', 'bmp_glucose', 'bmp_aniongap', 'bmp_calcium',\n",
    "        'bmp_lactate', 'hfp_alt', 'hfp_alp', 'hfp_ast', 'hfp_bilirubin_total',\n",
    "        'hfp_albumin', 'others_ck_cpk',\n",
    "        'SpO2', 'SaO2', 'pH',\n",
    "        'SpO2_exaggerated', 'hidden_hypoxemia']\n",
    "\n",
    "# Initialize an empty DataFrame to store the results\n",
    "results_df = pd.DataFrame()\n",
    "\n",
    "X_train['hidden_hypoxemia'] = X_train['hidden_hypoxemia'].astype(int)\n",
    "\n",
    "# Iterate over each variable in the list\n",
    "for var in vars:\n",
    "    X = X_train[var]  # Select the current variable from the training data\n",
    "    y = y_train       # Target variable remains the same\n",
    "\n",
    "    # statsmodels must explicitly add a constant term\n",
    "    # Add a constant term to the independent variable for the logistic regression model\n",
    "    X = sm.add_constant(X)\n",
    "\n",
    "    # Application of logistic regression model using statsmodels\n",
    "    model = sm.Logit(y, X)\n",
    "    result = model.fit(disp=False)  # Fit the model without printing the summary\n",
    "\n",
    "    # Calculation of p-values and odds ratios\n",
    "    # Extract the summary of the fitted model\n",
    "    summary = result.summary2()\n",
    "\n",
    "    # Extract p-values from the summary\n",
    "    p_values = summary.tables[1]['P>|z|']\n",
    "\n",
    "    # Calculate the odds ratios by exponentiating the coefficients\n",
    "    odds_ratios = np.exp(summary.tables[1]['Coef.'])\n",
    "\n",
    "    # Calculate the 95% confidence intervals for the odds ratios\n",
    "    conf_int = np.exp(summary.tables[1][['[0.025', '0.975]']])\n",
    "\n",
    "    # Create a temporary DataFrame to store the results for the current variable\n",
    "    results_df_ = pd.DataFrame({\n",
    "        'Variable': summary.tables[1].index,  # Variable names\n",
    "        'P-value': p_values,                  # P-values\n",
    "        'Odds Ratio': odds_ratios,            # Odds ratios\n",
    "        '95% CI (Lower)': conf_int['[0.025'], # Lower bound of the 95% confidence interval\n",
    "        '95% CI (Upper)': conf_int['0.975]']  # Upper bound of the 95% confidence interval\n",
    "    })\n",
    "\n",
    "    # Filter the results to include only the current variable and concatenate to the final results DataFrame\n",
    "    results_df = pd.concat([results_df, results_df_[results_df_['Variable'] == var]], axis=0)\n",
    "\n",
    "# Display the final results DataFrame\n",
    "display(results_df)"
   ]
  },
  {
   "cell_type": "code",
   "execution_count": null,
   "id": "MPs3X8-Tzzoy",
   "metadata": {
    "colab": {
     "base_uri": "https://localhost:8080/",
     "height": 569
    },
    "id": "MPs3X8-Tzzoy",
    "outputId": "485b5993-4dc2-44b7-9771-39b61c0c419d"
   },
   "outputs": [],
   "source": [
    "# Create a figure and set the size\n",
    "plt.figure(figsize=(8, 6))\n",
    "\n",
    "# Create a horizontal bar plot of the p-values for each variable\n",
    "plt.barh(results_df['Variable'], results_df[\"P-value\"], label='Exponential Growth')  # Draw a horizontal bar graph\n",
    "\n",
    "# Set the x-axis to a logarithmic scale\n",
    "plt.xscale('log')  # Set the x-axis to a logarithmic scale\n",
    "plt.gca().invert_yaxis()  # Invert the order of the y-axis (change from top to bottom)\n",
    "\n",
    "# Decorate the graph\n",
    "plt.title('Exponential p_value on Log Scale')  # Set the title of the graph\n",
    "plt.xlabel('X-axis (log scale)')  # Change the label of the x-axis\n",
    "plt.ylabel('Y-axis')  # Set the label of the y-axis\n",
    "plt.grid(True)  # Enable grid\n",
    "plt.legend()  # Display the legend\n",
    "\n",
    "# Display the graph\n",
    "plt.show()  # Show the plot\n"
   ]
  },
  {
   "cell_type": "markdown",
   "id": "5ZpRXubmE_P7",
   "metadata": {
    "id": "5ZpRXubmE_P7"
   },
   "source": [
    "- Question: What key insights can you derive from this figure?\n",
    "- Your answer: ....\n",
    "\n",
    "\n",
    "- My answer: The figure effectively highlights the statistical significance of various clinical variables, with lactate standing out as the most important. However, it also underscores the limitations of univariate analysis in capturing the full clinical picture, particularly for complex conditions like hidden hypoxemia. For a more comprehensive understanding, a multivariate analysis would be necessary to consider the interactions between these variables and their collective impact on patient outcomes."
   ]
  },
  {
   "cell_type": "markdown",
   "id": "nXdm4PAZwSXf",
   "metadata": {
    "id": "nXdm4PAZwSXf"
   },
   "source": [
    "### Multivariate Logistic Regression"
   ]
  },
  {
   "cell_type": "code",
   "execution_count": null,
   "id": "8323e33e-2802-41bf-b495-710467233d07",
   "metadata": {
    "colab": {
     "base_uri": "https://localhost:8080/"
    },
    "id": "8323e33e-2802-41bf-b495-710467233d07",
    "outputId": "ab75d81d-3472-4fe1-de09-f2544d0f561e"
   },
   "outputs": [],
   "source": [
    "from sklearn.linear_model import LogisticRegression\n",
    "from sklearn.metrics import accuracy_score, classification_report, roc_auc_score\n",
    "\n",
    "# Define the features to include\n",
    "features_to_include = ['admission_age',\n",
    "        'sex_female',\n",
    "        'BMI_admission',\n",
    "        'vitals_heart_rate', 'vitals_mbp_ni',\n",
    "        'vitals_resp_rate', 'vitals_tempc',\n",
    "        'cbc_wbc', 'cbc_hematocrit',\n",
    "        'cbc_platelet', 'coag_inr', 'bmp_sodium',\n",
    "        'bmp_potassium', 'bmp_chloride', 'bmp_bicarbonate', 'bmp_bun',\n",
    "        'bmp_creatinine', 'bmp_glucose', 'bmp_aniongap', 'bmp_calcium',\n",
    "        'bmp_lactate', 'hfp_alt', 'hfp_alp', 'hfp_ast', 'hfp_bilirubin_total',\n",
    "        'hfp_albumin', 'others_ck_cpk',\n",
    "        'pH', 'hidden_hypoxemia']\n",
    "\n",
    "# Fit the logistic regression model\n",
    "model = LogisticRegression (max_iter = 1000)\n",
    "result = model.fit(X_train[features_to_include], y_train)\n",
    "\n",
    "# Predictions\n",
    "y_pred = model.predict(X_test[features_to_include])\n",
    "y_pred_proba = model.predict_proba(X_test[features_to_include]) [:,1]\n",
    "\n",
    "\n",
    "# Evaluate the model\n",
    "print(\"Classification Report:\")\n",
    "print (classification_report(y_test, y_pred))\n",
    "print(f\"Accuracy: {accuracy_score(y_test, y_pred):.2f}\")\n",
    "\n",
    "# Area under the Curve (AUC)\n",
    "auc = roc_auc_score(y_test, y_pred_proba)\n",
    "print(f\"AUC: {auc:.2f}\")"
   ]
  },
  {
   "cell_type": "code",
   "execution_count": null,
   "id": "a5db3438-2de3-46d8-ada0-6dd282c03888",
   "metadata": {
    "colab": {
     "base_uri": "https://localhost:8080/",
     "height": 564
    },
    "id": "a5db3438-2de3-46d8-ada0-6dd282c03888",
    "outputId": "b8e2c974-f396-454c-9b1a-5f391c87991e"
   },
   "outputs": [],
   "source": [
    "# Extract coefficients and their importance\n",
    "coefficients = model.coef_[0]\n",
    "importance = pd.DataFrame({'Feature': X_train[features_to_include].columns, 'Importance': coefficients})\n",
    "importance = importance.sort_values(by='Importance', ascending=False)\n",
    "\n",
    "# Plotting\n",
    "plt.figure(figsize=(10, 6))\n",
    "sns.barplot(x='Importance', y='Feature', data=importance)\n",
    "plt.title('Feature Importance in Logistic Regression')\n",
    "plt.show()"
   ]
  },
  {
   "cell_type": "markdown",
   "id": "eenSdBS7GQYG",
   "metadata": {
    "id": "eenSdBS7GQYG"
   },
   "source": [
    "- Question: What key insights can you derive from this figure?\n",
    "- Your answer: ....\n",
    "\n",
    "\n",
    "- My answer: The multivariate analysis provides a more nuanced view of feature importance, demonstrating how variables interact with each other to influence outcomes. Hidden hypoxemia, which was not significant in the univariate analysis, emerges as highly important in the multivariate context, emphasizing the value of considering multiple variables simultaneously. This approach provides a more comprehensive understanding of the factors affecting patient outcomes and helps identify the key predictors in a clinical setting.\n"
   ]
  },
  {
   "cell_type": "markdown",
   "id": "b6707f53-3a7b-456f-800e-a5502750163c",
   "metadata": {
    "id": "b6707f53-3a7b-456f-800e-a5502750163c",
    "jp-MarkdownHeadingCollapsed": true
   },
   "source": [
    "#### *Optional*\n",
    " * Task: We already assessed the importance of hidden hypoxemia on in-hospital mortality as a binary outcome, now try to:\n",
    "   - Assess the importance of hidden hypoxemia on ordinal outcomes, such as CVSOFA (Cardiovascular Sequential Organ Failure Assessment) and RSOFA (Respiratory Sequential Organ Failure Assessment) scores.\n",
    "   - Assess the importance of hidden hypoxemia on continuous outcomes, such as creatinine and lactate levels.\n",
    "  \n",
    " * What observations do you see?"
   ]
  },
  {
   "cell_type": "markdown",
   "id": "9d90f506-dbd7-4c2b-9fef-20945b45ccbe",
   "metadata": {
    "id": "9d90f506-dbd7-4c2b-9fef-20945b45ccbe"
   },
   "source": [
    "## Step 2: Predicting In Hospital Mortality using different features in the dataset\n",
    "Goal: Compare the performance of different models that include various combinations of features (SpO2, Sp02_exaggerated, SaO2) in predicting in-hospital mortality across different patient races. This step demonstrates how including or excluding certain features impacts model accuracy, fairness, and overall predictive performance, emphasizing the need for careful feature selection in clinical predictions.\n",
    "\n",
    "\n"
   ]
  },
  {
   "cell_type": "code",
   "execution_count": null,
   "id": "a0854d94-7e71-4217-91a1-78e0793c673e",
   "metadata": {
    "id": "a0854d94-7e71-4217-91a1-78e0793c673e"
   },
   "outputs": [],
   "source": [
    "\n",
    "from sklearn.linear_model import LogisticRegression\n",
    "from sklearn.metrics import accuracy_score, classification_report, roc_auc_score\n",
    "\n",
    "\n",
    "# Helper function to train and evaluate models\n",
    "def train_model (X_train, X_test, y_train, features):\n",
    "    # Create an instance of Logistic Regression model with a maximum of 1000 iterations for convergence\n",
    "    model = LogisticRegression(max_iter=1000)\n",
    "\n",
    "    # Fit the model on the training data using the specified features\n",
    "    model.fit(X_train[features], y_train)\n",
    "\n",
    "    # Predict the target values for the test data\n",
    "    y_pred = model.predict(X_test[features])\n",
    "\n",
    "    # Predict the probabilities of the positive class for the test data\n",
    "    y_pred_proba = model.predict_proba(X_test[features])[:, 1]\n",
    "\n",
    "    # Return the trained model, predictions, predicted probabilities\n",
    "    return model, y_pred, y_pred_proba\n"
   ]
  },
  {
   "cell_type": "code",
   "execution_count": null,
   "id": "03c3bf68-1d1c-4ceb-9702-e57622c1a6b2",
   "metadata": {
    "id": "03c3bf68-1d1c-4ceb-9702-e57622c1a6b2"
   },
   "outputs": [],
   "source": [
    "# Define feature sets dynamically excluding 'hidden_hypoxemia'\n",
    "all_features = X_train.columns.tolist()\n",
    "\n",
    "# Exclude 'SpO2_exaggerated', 'SpO2', and 'hidden_hypoxemia' for features_sao2\n",
    "features_sao2 = [feature for feature in all_features if feature not in ['SpO2_exaggerated', 'SpO2', 'hidden_hypoxemia']]\n",
    "\n",
    "# Exclude 'SaO2', 'SpO2_exaggerated', and 'hidden_hypoxemia' for features_spo2\n",
    "features_spo2 = [feature for feature in all_features if feature not in ['SaO2', 'SpO2_exaggerated', 'hidden_hypoxemia']]\n",
    "\n",
    "# Exclude 'SaO2', 'SpO2', and 'hidden_hypoxemia' for features_exaggerated_spo2\n",
    "features_exaggerated_spo2 = [feature for feature in all_features if feature not in ['SaO2', 'SpO2', 'hidden_hypoxemia']]\n"
   ]
  },
  {
   "cell_type": "code",
   "execution_count": null,
   "id": "2c0b5dd2-aa04-4649-8cc1-1506cc570d30",
   "metadata": {
    "id": "2c0b5dd2-aa04-4649-8cc1-1506cc570d30"
   },
   "outputs": [],
   "source": [
    "# Train each model\n",
    "model_sao2, y_pred_sao2, y_pred_proba_sao2 = train_model(X_train, X_test, y_train, features_sao2)\n",
    "model_spo2, y_pred_spo2, y_pred_proba_spo2 = train_model(X_train, X_test, y_train, features_spo2)\n",
    "model_exaggerated_spo2, y_pred_exaggerated_spo2, y_pred_proba_exaggerated_spo2 = train_model(X_train, X_test, y_train, features_exaggerated_spo2)"
   ]
  },
  {
   "cell_type": "code",
   "execution_count": null,
   "id": "76a5f110-3a9d-4d60-8878-b11e016ecaae",
   "metadata": {
    "id": "76a5f110-3a9d-4d60-8878-b11e016ecaae"
   },
   "outputs": [],
   "source": [
    "from sklearn.metrics import roc_auc_score, accuracy_score, classification_report, balanced_accuracy_score\n",
    "\n",
    "# Evaluate across races\n",
    "def evaluate_across_races(X_test, y_test, y_pred, y_pred_proba, data_test, model, features):\n",
    "    \"\"\"\n",
    "    Evaluate model performance across different race/ethnicity groups.\n",
    "\n",
    "    This function evaluates the performance of a trained machine learning model across\n",
    "    different race/ethnicity groups in the test dataset. It generates classification reports,\n",
    "    calculates accuracy and AUC scores, and identifies feature importance for each group.\n",
    "\n",
    "    Parameters:\n",
    "    X_test (array-like): Test features.\n",
    "    y_test (array-like): True labels for the test set.\n",
    "    y_pred (array-like): Predicted labels for the test set.\n",
    "    y_pred_proba (array-like): Predicted probabilities for the positive class.\n",
    "    data_test (DataFrame): Test dataset containing the race/ethnicity information.\n",
    "    model (sklearn model): Trained machine learning model.\n",
    "    features (list): List of feature names.\n",
    "\n",
    "    Returns:\n",
    "    group_reports (dict): Dictionary containing classification reports, accuracy, and AUC scores for each race/ethnicity group.\n",
    "    feature_importance_dict (dict): Dictionary containing feature importance for each race/ethnicity group.\n",
    "    \"\"\"\n",
    "\n",
    "    # Create a DataFrame for evaluation using the test features\n",
    "    evaluation_df = pd.DataFrame(X_test, columns=features)\n",
    "\n",
    "    # Add the actual test labels to the DataFrame\n",
    "    evaluation_df['y_test'] = y_test.values\n",
    "\n",
    "    # Add the predicted labels to the DataFrame\n",
    "    evaluation_df['y_pred'] = y_pred\n",
    "\n",
    "    # Add the predicted probabilities to the DataFrame\n",
    "    evaluation_df['y_pred_proba'] = y_pred_proba\n",
    "\n",
    "    # Add the race/ethnicity information to the DataFrame\n",
    "    evaluation_df['race_ethnicity'] = data_test['race_ethnicity'].values\n",
    "\n",
    "\n",
    "\n",
    "    # Initialize dictionaries to store reports and feature importances for each race group\n",
    "    group_reports = pd.DataFrame()\n",
    "\n",
    "    # Loop through each unique race/ethnicity group in the evaluation DataFrame\n",
    "    for i, group in enumerate(evaluation_df['race_ethnicity'].unique()):\n",
    "        # Filter the data for the current race/ethnicity group\n",
    "        group_data = evaluation_df[evaluation_df['race_ethnicity'] == group]\n",
    "\n",
    "        # Extract the actual labels for the current group\n",
    "        y_test_group = group_data['y_test']\n",
    "\n",
    "        # Extract the predicted labels for the current group\n",
    "        y_pred_group = group_data['y_pred']\n",
    "\n",
    "        # Extract the predicted probabilities for the current group\n",
    "        y_pred_proba_group = group_data['y_pred_proba']\n",
    "\n",
    "\n",
    "        # Generate a classification report for the current group\n",
    "        report = classification_report(y_test_group, y_pred_group, output_dict=True)\n",
    "\n",
    "        group_reports.loc[i, 'race_ethnicity'] = group\n",
    "\n",
    "        # Weighted precision for the race group\n",
    "        group_reports.loc[i, \"Weighted Precision\"] = report['weighted avg']['precision']\n",
    "\n",
    "        # Weighted recall for the race group\n",
    "        group_reports.loc[i, \"Weighted Recall\"] = report['weighted avg']['recall']\n",
    "\n",
    "        # Weighted F1-score for the race group\n",
    "        group_reports.loc[i, \"Weighted F1-Score\"] = report['weighted avg']['f1-score']\n",
    "\n",
    "        # Calculate the balanced accuracy for the current group\n",
    "        group_reports.loc[i, 'balanced_accuracy'] = balanced_accuracy_score(y_test_group, y_pred_group)\n",
    "\n",
    "        # Calculate the AUC score for the current group\n",
    "        group_reports.loc[i, 'auc'] = roc_auc_score(y_test_group, y_pred_proba_group)\n",
    "\n",
    "    return group_reports\n",
    "\n",
    "\n"
   ]
  },
  {
   "cell_type": "code",
   "execution_count": null,
   "id": "a7f30889-7bc6-4d15-b53c-93c9bc8cbe5b",
   "metadata": {
    "id": "a7f30889-7bc6-4d15-b53c-93c9bc8cbe5b"
   },
   "outputs": [],
   "source": [
    "# Evaluate across races for each model\n",
    "group_reports_sao2 = evaluate_across_races(X_test, y_test, y_pred_sao2, y_pred_proba_sao2, final_standardized_test, model_sao2, features_sao2)\n",
    "\n",
    "group_reports_spo2 = evaluate_across_races(X_test, y_test, y_pred_spo2, y_pred_proba_spo2, final_standardized_test, model_spo2, features_spo2)\n",
    "\n",
    "group_reports_exaggerated_spo2 = evaluate_across_races(X_test, y_test, y_pred_exaggerated_spo2, y_pred_proba_exaggerated_spo2, final_standardized_test, model_exaggerated_spo2, features_exaggerated_spo2)\n"
   ]
  },
  {
   "cell_type": "code",
   "execution_count": null,
   "id": "hr30pn1U1nNL",
   "metadata": {
    "colab": {
     "base_uri": "https://localhost:8080/",
     "height": 425
    },
    "id": "hr30pn1U1nNL",
    "outputId": "a9526357-f1e1-4ac9-8663-6135b930b23c"
   },
   "outputs": [],
   "source": [
    "group_reports_sao2['features'] = 'SaO2'\n",
    "group_reports_spo2['features'] = 'SpO2'\n",
    "group_reports_exaggerated_spo2['features'] = 'Exaggerated SpO2'\n",
    "\n",
    "all_reports = pd.concat([group_reports_sao2,group_reports_spo2,group_reports_exaggerated_spo2],axis=0)\n",
    "\n",
    "all_reports.sort_values(['race_ethnicity','features'])[['features','race_ethnicity', 'auc', 'Weighted Precision', 'Weighted Recall',\n",
    "       'Weighted F1-Score', 'balanced_accuracy']]"
   ]
  },
  {
   "cell_type": "markdown",
   "id": "b2a23e37-5569-4849-8094-ba6957e3348f",
   "metadata": {
    "id": "b2a23e37-5569-4849-8094-ba6957e3348f"
   },
   "source": [
    "Reminder:\n",
    "- Recall: This is critical in your context because it measures the ability of the model to identify all actual positive cases (e.g., patients who died). High recall ensures that the model doesn't miss many critical cases, which is essential in a healthcare setting.\n",
    "\n",
    "- Precision: While not as critical as recall, precision indicates the proportion of positive identifications that are actually correct. It helps in understanding the false positive rate.\n",
    "\n",
    "- F1-Score: This metric provides a balance between precision and recall. It's useful when you want a single metric that considers both false positives and false negatives.\n",
    "\n",
    "- Accuracy: While it gives an overall performance measure, it can be misleading in imbalanced datasets (e.g., more patients survive than die).\n",
    "\n",
    "- AUC (Area Under the Curve): This metric helps understand the model's ability to distinguish between positive and negative cases across various threshold settings. It’s useful for evaluating overall model performance.\n",
    "\n"
   ]
  },
  {
   "cell_type": "markdown",
   "id": "01tQ-tg-3zdf",
   "metadata": {
    "id": "01tQ-tg-3zdf"
   },
   "source": [
    "### Calibration Plot"
   ]
  },
  {
   "cell_type": "code",
   "execution_count": null,
   "id": "d6257714-93fe-4ce2-8097-1182f36b5c4b",
   "metadata": {
    "colab": {
     "base_uri": "https://localhost:8080/",
     "height": 641
    },
    "id": "d6257714-93fe-4ce2-8097-1182f36b5c4b",
    "outputId": "815ffc1b-87cd-46e7-9f0e-70aaffeb5725"
   },
   "outputs": [],
   "source": [
    "import numpy as np\n",
    "import matplotlib.pyplot as plt\n",
    "from sklearn.calibration import calibration_curve\n",
    "from sklearn.linear_model import LogisticRegression\n",
    "\n",
    "# Calibration curve for model_sao2\n",
    "prob_true_sao2, prob_pred_sao2 = calibration_curve(y_test, y_pred_proba_sao2, n_bins=10)\n",
    "\n",
    "# Calibration curve for model_spo2\n",
    "prob_true_spo2, prob_pred_spo2 = calibration_curve(y_test, y_pred_proba_spo2, n_bins=10)\n",
    "\n",
    "# Calibration curve for model_exaggerated_spo2\n",
    "prob_true_exaggerated_spo2, prob_pred_exaggerated_spo2 = calibration_curve(y_test, y_pred_proba_exaggerated_spo2, n_bins=10)\n",
    "\n",
    "# Plot calibration curves\n",
    "plt.figure(figsize=(10, 7))\n",
    "\n",
    "# Plot calibration curve for model_sao2\n",
    "plt.plot(prob_pred_sao2, prob_true_sao2, marker='o', label='Model SAO2', color='blue', linewidth=0.5)\n",
    "\n",
    "# Plot calibration curve for model_spo2\n",
    "plt.plot(prob_pred_spo2, prob_true_spo2, marker='o', label='Model SPO2', color='orange', linewidth=0.5)\n",
    "\n",
    "# Plot calibration curve for model_exaggerated_spo2\n",
    "plt.plot(prob_pred_exaggerated_spo2, prob_true_exaggerated_spo2, marker='o', label='Model Exaggerated SPO2', color='green', linewidth=0.5)\n",
    "\n",
    "# Plot perfectly calibrated line\n",
    "plt.plot([0, 1], [0, 1], linestyle='--', color='gray', label='Perfectly Calibrated', linewidth=1)\n",
    "\n",
    "\n",
    "plt.xlabel('Predicted Probability')\n",
    "plt.ylabel('True Probability')\n",
    "plt.title('Calibration Curves')\n",
    "plt.legend()\n",
    "plt.show()\n"
   ]
  },
  {
   "cell_type": "markdown",
   "id": "Lp46eGG3Hqda",
   "metadata": {
    "id": "Lp46eGG3Hqda"
   },
   "source": [
    "- Question: What key insights can you derive from this figure?\n",
    "- Your answer: ....\n",
    "\n",
    "\n",
    "- My answer: The calibration curves indicate that all three models (SAO2, SPO2, and Exaggerated SPO2) are well-calibrated, providing reliable probability estimates. Minor deviations at higher probability levels are observed but are not significant enough to impact the overall reliability of the models. This suggests that these models are suitable for use in clinical settings where accurate probability predictions are essential for decision-making."
   ]
  },
  {
   "cell_type": "markdown",
   "id": "a113d353-7753-4786-9911-8b6bd3978ff1",
   "metadata": {
    "id": "a113d353-7753-4786-9911-8b6bd3978ff1"
   },
   "source": [
    "#### *Optional*\n",
    " * Try the same approach to assess different outcomes:\n",
    "   - Ordinal outcomes, such as CVSOFA (Cardiovascular Sequential Organ Failure Assessment) and RSOFA (Respiratory Sequential Organ Failure Assessment) scores.\n",
    "   - Continuous outcomes, such as creatinine and lactate levels.\n",
    "  \n",
    " * What observations do you see?"
   ]
  },
  {
   "cell_type": "markdown",
   "id": "T9PBcawPHkiN",
   "metadata": {
    "id": "T9PBcawPHkiN"
   },
   "source": [
    "Acknowledgement: Thank you to Dr. Leo Anthony Celi, Dr. Takeshi Tohyama, João Matos, and many others from Dr. Celi’s team at [MIT Critical Data](https://criticaldata.mit.edu/#community) for their support throughout the development of this notebook."
   ]
  }
 ],
 "metadata": {
  "colab": {
   "collapsed_sections": [
    "94b4ea3d-3cce-49a5-bdf1-2e176fb91867",
    "93158db1-7327-42ce-8602-ed9cedec70fa"
   ],
   "provenance": []
  },
  "kernelspec": {
   "display_name": "Python (bumblekite_tutorial)",
   "language": "python",
   "name": "bumblekite_tutorial"
  },
  "language_info": {
   "codemirror_mode": {
    "name": "ipython",
    "version": 3
   },
   "file_extension": ".py",
   "mimetype": "text/x-python",
   "name": "python",
   "nbconvert_exporter": "python",
   "pygments_lexer": "ipython3",
   "version": "3.8.19"
  },
  "widgets": {
   "application/vnd.jupyter.widget-state+json": {
    "05363891af054843bd2613c5257d3a44": {
     "model_module": "@jupyter-widgets/controls",
     "model_module_version": "1.5.0",
     "model_name": "HTMLModel",
     "state": {
      "_dom_classes": [],
      "_model_module": "@jupyter-widgets/controls",
      "_model_module_version": "1.5.0",
      "_model_name": "HTMLModel",
      "_view_count": null,
      "_view_module": "@jupyter-widgets/controls",
      "_view_module_version": "1.5.0",
      "_view_name": "HTMLView",
      "description": "",
      "description_tooltip": null,
      "layout": "IPY_MODEL_97d9e90545ca4bf69753a94bc980b717",
      "placeholder": "​",
      "style": "IPY_MODEL_fd1e3c4ed61748ae8e307934773a0104",
      "value": "Summarize dataset: 100%"
     }
    },
    "066d26f028e24b8783bdb84420d59fb7": {
     "model_module": "@jupyter-widgets/controls",
     "model_module_version": "1.5.0",
     "model_name": "HTMLModel",
     "state": {
      "_dom_classes": [],
      "_model_module": "@jupyter-widgets/controls",
      "_model_module_version": "1.5.0",
      "_model_name": "HTMLModel",
      "_view_count": null,
      "_view_module": "@jupyter-widgets/controls",
      "_view_module_version": "1.5.0",
      "_view_name": "HTMLView",
      "description": "",
      "description_tooltip": null,
      "layout": "IPY_MODEL_f68d8d29f98043dba8c168abec0fe598",
      "placeholder": "​",
      "style": "IPY_MODEL_dae0f0fff7fa4e93a11d500cd80c8781",
      "value": " 1/1 [00:13&lt;00:00, 13.68s/it]"
     }
    },
    "0fd434c7236d48e18b02209a6bad3bea": {
     "model_module": "@jupyter-widgets/controls",
     "model_module_version": "1.5.0",
     "model_name": "ProgressStyleModel",
     "state": {
      "_model_module": "@jupyter-widgets/controls",
      "_model_module_version": "1.5.0",
      "_model_name": "ProgressStyleModel",
      "_view_count": null,
      "_view_module": "@jupyter-widgets/base",
      "_view_module_version": "1.2.0",
      "_view_name": "StyleView",
      "bar_color": null,
      "description_width": ""
     }
    },
    "1093a7be9b76457cad26537143872f60": {
     "model_module": "@jupyter-widgets/controls",
     "model_module_version": "1.5.0",
     "model_name": "HBoxModel",
     "state": {
      "_dom_classes": [],
      "_model_module": "@jupyter-widgets/controls",
      "_model_module_version": "1.5.0",
      "_model_name": "HBoxModel",
      "_view_count": null,
      "_view_module": "@jupyter-widgets/controls",
      "_view_module_version": "1.5.0",
      "_view_name": "HBoxView",
      "box_style": "",
      "children": [
       "IPY_MODEL_05363891af054843bd2613c5257d3a44",
       "IPY_MODEL_2974ab9b726c46068c58e23de16057b7",
       "IPY_MODEL_8e668438df644d42bf1195ba8e2eb24e"
      ],
      "layout": "IPY_MODEL_a3ebc626e69d415281217adef5b5e6c3"
     }
    },
    "11ff5b1384d749fa913632eb5b88e6e1": {
     "model_module": "@jupyter-widgets/base",
     "model_module_version": "1.2.0",
     "model_name": "LayoutModel",
     "state": {
      "_model_module": "@jupyter-widgets/base",
      "_model_module_version": "1.2.0",
      "_model_name": "LayoutModel",
      "_view_count": null,
      "_view_module": "@jupyter-widgets/base",
      "_view_module_version": "1.2.0",
      "_view_name": "LayoutView",
      "align_content": null,
      "align_items": null,
      "align_self": null,
      "border": null,
      "bottom": null,
      "display": null,
      "flex": null,
      "flex_flow": null,
      "grid_area": null,
      "grid_auto_columns": null,
      "grid_auto_flow": null,
      "grid_auto_rows": null,
      "grid_column": null,
      "grid_gap": null,
      "grid_row": null,
      "grid_template_areas": null,
      "grid_template_columns": null,
      "grid_template_rows": null,
      "height": null,
      "justify_content": null,
      "justify_items": null,
      "left": null,
      "margin": null,
      "max_height": null,
      "max_width": null,
      "min_height": null,
      "min_width": null,
      "object_fit": null,
      "object_position": null,
      "order": null,
      "overflow": null,
      "overflow_x": null,
      "overflow_y": null,
      "padding": null,
      "right": null,
      "top": null,
      "visibility": null,
      "width": null
     }
    },
    "14be31c1f04a4060ac540b0193ad81ca": {
     "model_module": "@jupyter-widgets/controls",
     "model_module_version": "1.5.0",
     "model_name": "ProgressStyleModel",
     "state": {
      "_model_module": "@jupyter-widgets/controls",
      "_model_module_version": "1.5.0",
      "_model_name": "ProgressStyleModel",
      "_view_count": null,
      "_view_module": "@jupyter-widgets/base",
      "_view_module_version": "1.2.0",
      "_view_name": "StyleView",
      "bar_color": null,
      "description_width": ""
     }
    },
    "1a35b244f3f3441ab7b971ef6ef12ada": {
     "model_module": "@jupyter-widgets/controls",
     "model_module_version": "1.5.0",
     "model_name": "FloatProgressModel",
     "state": {
      "_dom_classes": [],
      "_model_module": "@jupyter-widgets/controls",
      "_model_module_version": "1.5.0",
      "_model_name": "FloatProgressModel",
      "_view_count": null,
      "_view_module": "@jupyter-widgets/controls",
      "_view_module_version": "1.5.0",
      "_view_name": "ProgressView",
      "bar_style": "success",
      "description": "",
      "description_tooltip": null,
      "layout": "IPY_MODEL_fc5b5846de1b4c3dbf96eaa6bde8b4c0",
      "max": 1,
      "min": 0,
      "orientation": "horizontal",
      "style": "IPY_MODEL_14be31c1f04a4060ac540b0193ad81ca",
      "value": 1
     }
    },
    "1ccc7c6902e94fb0aad0bd4886d41668": {
     "model_module": "@jupyter-widgets/base",
     "model_module_version": "1.2.0",
     "model_name": "LayoutModel",
     "state": {
      "_model_module": "@jupyter-widgets/base",
      "_model_module_version": "1.2.0",
      "_model_name": "LayoutModel",
      "_view_count": null,
      "_view_module": "@jupyter-widgets/base",
      "_view_module_version": "1.2.0",
      "_view_name": "LayoutView",
      "align_content": null,
      "align_items": null,
      "align_self": null,
      "border": null,
      "bottom": null,
      "display": null,
      "flex": null,
      "flex_flow": null,
      "grid_area": null,
      "grid_auto_columns": null,
      "grid_auto_flow": null,
      "grid_auto_rows": null,
      "grid_column": null,
      "grid_gap": null,
      "grid_row": null,
      "grid_template_areas": null,
      "grid_template_columns": null,
      "grid_template_rows": null,
      "height": null,
      "justify_content": null,
      "justify_items": null,
      "left": null,
      "margin": null,
      "max_height": null,
      "max_width": null,
      "min_height": null,
      "min_width": null,
      "object_fit": null,
      "object_position": null,
      "order": null,
      "overflow": null,
      "overflow_x": null,
      "overflow_y": null,
      "padding": null,
      "right": null,
      "top": null,
      "visibility": null,
      "width": null
     }
    },
    "228e6c7e534a402e9cdff4f6ff7d8c35": {
     "model_module": "@jupyter-widgets/controls",
     "model_module_version": "1.5.0",
     "model_name": "HTMLModel",
     "state": {
      "_dom_classes": [],
      "_model_module": "@jupyter-widgets/controls",
      "_model_module_version": "1.5.0",
      "_model_name": "HTMLModel",
      "_view_count": null,
      "_view_module": "@jupyter-widgets/controls",
      "_view_module_version": "1.5.0",
      "_view_name": "HTMLView",
      "description": "",
      "description_tooltip": null,
      "layout": "IPY_MODEL_d61dc9977ba1470bbb98eb8a5b78ddac",
      "placeholder": "​",
      "style": "IPY_MODEL_f98edb0bf6724cf0b7234e325bb832a7",
      "value": "Render HTML: 100%"
     }
    },
    "2974ab9b726c46068c58e23de16057b7": {
     "model_module": "@jupyter-widgets/controls",
     "model_module_version": "1.5.0",
     "model_name": "FloatProgressModel",
     "state": {
      "_dom_classes": [],
      "_model_module": "@jupyter-widgets/controls",
      "_model_module_version": "1.5.0",
      "_model_name": "FloatProgressModel",
      "_view_count": null,
      "_view_module": "@jupyter-widgets/controls",
      "_view_module_version": "1.5.0",
      "_view_name": "ProgressView",
      "bar_style": "success",
      "description": "",
      "description_tooltip": null,
      "layout": "IPY_MODEL_9fe1032283b149b4821984a023b94db7",
      "max": 5,
      "min": 0,
      "orientation": "horizontal",
      "style": "IPY_MODEL_ca47375698604ba1a90a791a7759490d",
      "value": 5
     }
    },
    "39a1d28f9aff4ddda512e3e039f81bbd": {
     "model_module": "@jupyter-widgets/controls",
     "model_module_version": "1.5.0",
     "model_name": "DescriptionStyleModel",
     "state": {
      "_model_module": "@jupyter-widgets/controls",
      "_model_module_version": "1.5.0",
      "_model_name": "DescriptionStyleModel",
      "_view_count": null,
      "_view_module": "@jupyter-widgets/base",
      "_view_module_version": "1.2.0",
      "_view_name": "StyleView",
      "description_width": ""
     }
    },
    "3b254ce78f3f46c093a647e3d8de81b8": {
     "model_module": "@jupyter-widgets/controls",
     "model_module_version": "1.5.0",
     "model_name": "DescriptionStyleModel",
     "state": {
      "_model_module": "@jupyter-widgets/controls",
      "_model_module_version": "1.5.0",
      "_model_name": "DescriptionStyleModel",
      "_view_count": null,
      "_view_module": "@jupyter-widgets/base",
      "_view_module_version": "1.2.0",
      "_view_name": "StyleView",
      "description_width": ""
     }
    },
    "46e508e8c03c4b35a445e73d8b2b3172": {
     "model_module": "@jupyter-widgets/controls",
     "model_module_version": "1.5.0",
     "model_name": "HTMLModel",
     "state": {
      "_dom_classes": [],
      "_model_module": "@jupyter-widgets/controls",
      "_model_module_version": "1.5.0",
      "_model_name": "HTMLModel",
      "_view_count": null,
      "_view_module": "@jupyter-widgets/controls",
      "_view_module_version": "1.5.0",
      "_view_name": "HTMLView",
      "description": "",
      "description_tooltip": null,
      "layout": "IPY_MODEL_bae23f6f94064b1196d549adefeafa9f",
      "placeholder": "​",
      "style": "IPY_MODEL_4eaf0db2331644738880dc9826d31a38",
      "value": " 1/1 [00:00&lt;00:00,  1.40it/s]"
     }
    },
    "47d276af72c64c75a5c9291e805dc303": {
     "model_module": "@jupyter-widgets/controls",
     "model_module_version": "1.5.0",
     "model_name": "HTMLModel",
     "state": {
      "_dom_classes": [],
      "_model_module": "@jupyter-widgets/controls",
      "_model_module_version": "1.5.0",
      "_model_name": "HTMLModel",
      "_view_count": null,
      "_view_module": "@jupyter-widgets/controls",
      "_view_module_version": "1.5.0",
      "_view_name": "HTMLView",
      "description": "",
      "description_tooltip": null,
      "layout": "IPY_MODEL_11ff5b1384d749fa913632eb5b88e6e1",
      "placeholder": "​",
      "style": "IPY_MODEL_7d5c8bd8af43489c8cb7a0453df21977",
      "value": "Export report to file: 100%"
     }
    },
    "4eaf0db2331644738880dc9826d31a38": {
     "model_module": "@jupyter-widgets/controls",
     "model_module_version": "1.5.0",
     "model_name": "DescriptionStyleModel",
     "state": {
      "_model_module": "@jupyter-widgets/controls",
      "_model_module_version": "1.5.0",
      "_model_name": "DescriptionStyleModel",
      "_view_count": null,
      "_view_module": "@jupyter-widgets/base",
      "_view_module_version": "1.2.0",
      "_view_name": "StyleView",
      "description_width": ""
     }
    },
    "581bca2b2afe41838662d0286ae35f4a": {
     "model_module": "@jupyter-widgets/base",
     "model_module_version": "1.2.0",
     "model_name": "LayoutModel",
     "state": {
      "_model_module": "@jupyter-widgets/base",
      "_model_module_version": "1.2.0",
      "_model_name": "LayoutModel",
      "_view_count": null,
      "_view_module": "@jupyter-widgets/base",
      "_view_module_version": "1.2.0",
      "_view_name": "LayoutView",
      "align_content": null,
      "align_items": null,
      "align_self": null,
      "border": null,
      "bottom": null,
      "display": null,
      "flex": null,
      "flex_flow": null,
      "grid_area": null,
      "grid_auto_columns": null,
      "grid_auto_flow": null,
      "grid_auto_rows": null,
      "grid_column": null,
      "grid_gap": null,
      "grid_row": null,
      "grid_template_areas": null,
      "grid_template_columns": null,
      "grid_template_rows": null,
      "height": null,
      "justify_content": null,
      "justify_items": null,
      "left": null,
      "margin": null,
      "max_height": null,
      "max_width": null,
      "min_height": null,
      "min_width": null,
      "object_fit": null,
      "object_position": null,
      "order": null,
      "overflow": null,
      "overflow_x": null,
      "overflow_y": null,
      "padding": null,
      "right": null,
      "top": null,
      "visibility": null,
      "width": null
     }
    },
    "7d4ad6e64e194542b1d35a6ea7e1ce75": {
     "model_module": "@jupyter-widgets/controls",
     "model_module_version": "1.5.0",
     "model_name": "ProgressStyleModel",
     "state": {
      "_model_module": "@jupyter-widgets/controls",
      "_model_module_version": "1.5.0",
      "_model_name": "ProgressStyleModel",
      "_view_count": null,
      "_view_module": "@jupyter-widgets/base",
      "_view_module_version": "1.2.0",
      "_view_name": "StyleView",
      "bar_color": null,
      "description_width": ""
     }
    },
    "7d5c8bd8af43489c8cb7a0453df21977": {
     "model_module": "@jupyter-widgets/controls",
     "model_module_version": "1.5.0",
     "model_name": "DescriptionStyleModel",
     "state": {
      "_model_module": "@jupyter-widgets/controls",
      "_model_module_version": "1.5.0",
      "_model_name": "DescriptionStyleModel",
      "_view_count": null,
      "_view_module": "@jupyter-widgets/base",
      "_view_module_version": "1.2.0",
      "_view_name": "StyleView",
      "description_width": ""
     }
    },
    "8e668438df644d42bf1195ba8e2eb24e": {
     "model_module": "@jupyter-widgets/controls",
     "model_module_version": "1.5.0",
     "model_name": "HTMLModel",
     "state": {
      "_dom_classes": [],
      "_model_module": "@jupyter-widgets/controls",
      "_model_module_version": "1.5.0",
      "_model_name": "HTMLModel",
      "_view_count": null,
      "_view_module": "@jupyter-widgets/controls",
      "_view_module_version": "1.5.0",
      "_view_name": "HTMLView",
      "description": "",
      "description_tooltip": null,
      "layout": "IPY_MODEL_c99de2b4a223485bb47903b375538932",
      "placeholder": "​",
      "style": "IPY_MODEL_39a1d28f9aff4ddda512e3e039f81bbd",
      "value": " 1574/1574 [04:18&lt;00:00,  1.27s/it, Completed]"
     }
    },
    "910bbb91cd1442139fecf38021d8de69": {
     "model_module": "@jupyter-widgets/base",
     "model_module_version": "1.2.0",
     "model_name": "LayoutModel",
     "state": {
      "_model_module": "@jupyter-widgets/base",
      "_model_module_version": "1.2.0",
      "_model_name": "LayoutModel",
      "_view_count": null,
      "_view_module": "@jupyter-widgets/base",
      "_view_module_version": "1.2.0",
      "_view_name": "LayoutView",
      "align_content": null,
      "align_items": null,
      "align_self": null,
      "border": null,
      "bottom": null,
      "display": null,
      "flex": null,
      "flex_flow": null,
      "grid_area": null,
      "grid_auto_columns": null,
      "grid_auto_flow": null,
      "grid_auto_rows": null,
      "grid_column": null,
      "grid_gap": null,
      "grid_row": null,
      "grid_template_areas": null,
      "grid_template_columns": null,
      "grid_template_rows": null,
      "height": null,
      "justify_content": null,
      "justify_items": null,
      "left": null,
      "margin": null,
      "max_height": null,
      "max_width": null,
      "min_height": null,
      "min_width": null,
      "object_fit": null,
      "object_position": null,
      "order": null,
      "overflow": null,
      "overflow_x": null,
      "overflow_y": null,
      "padding": null,
      "right": null,
      "top": null,
      "visibility": null,
      "width": null
     }
    },
    "93df8033750842478015819ad6a7cb8d": {
     "model_module": "@jupyter-widgets/controls",
     "model_module_version": "1.5.0",
     "model_name": "DescriptionStyleModel",
     "state": {
      "_model_module": "@jupyter-widgets/controls",
      "_model_module_version": "1.5.0",
      "_model_name": "DescriptionStyleModel",
      "_view_count": null,
      "_view_module": "@jupyter-widgets/base",
      "_view_module_version": "1.2.0",
      "_view_name": "StyleView",
      "description_width": ""
     }
    },
    "954124156932454eafde054be2ddf56e": {
     "model_module": "@jupyter-widgets/controls",
     "model_module_version": "1.5.0",
     "model_name": "HBoxModel",
     "state": {
      "_dom_classes": [],
      "_model_module": "@jupyter-widgets/controls",
      "_model_module_version": "1.5.0",
      "_model_name": "HBoxModel",
      "_view_count": null,
      "_view_module": "@jupyter-widgets/controls",
      "_view_module_version": "1.5.0",
      "_view_name": "HBoxView",
      "box_style": "",
      "children": [
       "IPY_MODEL_47d276af72c64c75a5c9291e805dc303",
       "IPY_MODEL_a9b15fa219e441d98a1d05fe56ea90bc",
       "IPY_MODEL_46e508e8c03c4b35a445e73d8b2b3172"
      ],
      "layout": "IPY_MODEL_581bca2b2afe41838662d0286ae35f4a"
     }
    },
    "97d9e90545ca4bf69753a94bc980b717": {
     "model_module": "@jupyter-widgets/base",
     "model_module_version": "1.2.0",
     "model_name": "LayoutModel",
     "state": {
      "_model_module": "@jupyter-widgets/base",
      "_model_module_version": "1.2.0",
      "_model_name": "LayoutModel",
      "_view_count": null,
      "_view_module": "@jupyter-widgets/base",
      "_view_module_version": "1.2.0",
      "_view_name": "LayoutView",
      "align_content": null,
      "align_items": null,
      "align_self": null,
      "border": null,
      "bottom": null,
      "display": null,
      "flex": null,
      "flex_flow": null,
      "grid_area": null,
      "grid_auto_columns": null,
      "grid_auto_flow": null,
      "grid_auto_rows": null,
      "grid_column": null,
      "grid_gap": null,
      "grid_row": null,
      "grid_template_areas": null,
      "grid_template_columns": null,
      "grid_template_rows": null,
      "height": null,
      "justify_content": null,
      "justify_items": null,
      "left": null,
      "margin": null,
      "max_height": null,
      "max_width": null,
      "min_height": null,
      "min_width": null,
      "object_fit": null,
      "object_position": null,
      "order": null,
      "overflow": null,
      "overflow_x": null,
      "overflow_y": null,
      "padding": null,
      "right": null,
      "top": null,
      "visibility": null,
      "width": null
     }
    },
    "9bea65414c2b47098f70595e9223dc3f": {
     "model_module": "@jupyter-widgets/base",
     "model_module_version": "1.2.0",
     "model_name": "LayoutModel",
     "state": {
      "_model_module": "@jupyter-widgets/base",
      "_model_module_version": "1.2.0",
      "_model_name": "LayoutModel",
      "_view_count": null,
      "_view_module": "@jupyter-widgets/base",
      "_view_module_version": "1.2.0",
      "_view_name": "LayoutView",
      "align_content": null,
      "align_items": null,
      "align_self": null,
      "border": null,
      "bottom": null,
      "display": null,
      "flex": null,
      "flex_flow": null,
      "grid_area": null,
      "grid_auto_columns": null,
      "grid_auto_flow": null,
      "grid_auto_rows": null,
      "grid_column": null,
      "grid_gap": null,
      "grid_row": null,
      "grid_template_areas": null,
      "grid_template_columns": null,
      "grid_template_rows": null,
      "height": null,
      "justify_content": null,
      "justify_items": null,
      "left": null,
      "margin": null,
      "max_height": null,
      "max_width": null,
      "min_height": null,
      "min_width": null,
      "object_fit": null,
      "object_position": null,
      "order": null,
      "overflow": null,
      "overflow_x": null,
      "overflow_y": null,
      "padding": null,
      "right": null,
      "top": null,
      "visibility": null,
      "width": null
     }
    },
    "9fe1032283b149b4821984a023b94db7": {
     "model_module": "@jupyter-widgets/base",
     "model_module_version": "1.2.0",
     "model_name": "LayoutModel",
     "state": {
      "_model_module": "@jupyter-widgets/base",
      "_model_module_version": "1.2.0",
      "_model_name": "LayoutModel",
      "_view_count": null,
      "_view_module": "@jupyter-widgets/base",
      "_view_module_version": "1.2.0",
      "_view_name": "LayoutView",
      "align_content": null,
      "align_items": null,
      "align_self": null,
      "border": null,
      "bottom": null,
      "display": null,
      "flex": null,
      "flex_flow": null,
      "grid_area": null,
      "grid_auto_columns": null,
      "grid_auto_flow": null,
      "grid_auto_rows": null,
      "grid_column": null,
      "grid_gap": null,
      "grid_row": null,
      "grid_template_areas": null,
      "grid_template_columns": null,
      "grid_template_rows": null,
      "height": null,
      "justify_content": null,
      "justify_items": null,
      "left": null,
      "margin": null,
      "max_height": null,
      "max_width": null,
      "min_height": null,
      "min_width": null,
      "object_fit": null,
      "object_position": null,
      "order": null,
      "overflow": null,
      "overflow_x": null,
      "overflow_y": null,
      "padding": null,
      "right": null,
      "top": null,
      "visibility": null,
      "width": null
     }
    },
    "a3ebc626e69d415281217adef5b5e6c3": {
     "model_module": "@jupyter-widgets/base",
     "model_module_version": "1.2.0",
     "model_name": "LayoutModel",
     "state": {
      "_model_module": "@jupyter-widgets/base",
      "_model_module_version": "1.2.0",
      "_model_name": "LayoutModel",
      "_view_count": null,
      "_view_module": "@jupyter-widgets/base",
      "_view_module_version": "1.2.0",
      "_view_name": "LayoutView",
      "align_content": null,
      "align_items": null,
      "align_self": null,
      "border": null,
      "bottom": null,
      "display": null,
      "flex": null,
      "flex_flow": null,
      "grid_area": null,
      "grid_auto_columns": null,
      "grid_auto_flow": null,
      "grid_auto_rows": null,
      "grid_column": null,
      "grid_gap": null,
      "grid_row": null,
      "grid_template_areas": null,
      "grid_template_columns": null,
      "grid_template_rows": null,
      "height": null,
      "justify_content": null,
      "justify_items": null,
      "left": null,
      "margin": null,
      "max_height": null,
      "max_width": null,
      "min_height": null,
      "min_width": null,
      "object_fit": null,
      "object_position": null,
      "order": null,
      "overflow": null,
      "overflow_x": null,
      "overflow_y": null,
      "padding": null,
      "right": null,
      "top": null,
      "visibility": null,
      "width": null
     }
    },
    "a9b15fa219e441d98a1d05fe56ea90bc": {
     "model_module": "@jupyter-widgets/controls",
     "model_module_version": "1.5.0",
     "model_name": "FloatProgressModel",
     "state": {
      "_dom_classes": [],
      "_model_module": "@jupyter-widgets/controls",
      "_model_module_version": "1.5.0",
      "_model_name": "FloatProgressModel",
      "_view_count": null,
      "_view_module": "@jupyter-widgets/controls",
      "_view_module_version": "1.5.0",
      "_view_name": "ProgressView",
      "bar_style": "success",
      "description": "",
      "description_tooltip": null,
      "layout": "IPY_MODEL_b6a993d1149d4f6c8dad44d92f542783",
      "max": 1,
      "min": 0,
      "orientation": "horizontal",
      "style": "IPY_MODEL_0fd434c7236d48e18b02209a6bad3bea",
      "value": 1
     }
    },
    "b69fa7f363524c9aae73d143d43178c7": {
     "model_module": "@jupyter-widgets/controls",
     "model_module_version": "1.5.0",
     "model_name": "HBoxModel",
     "state": {
      "_dom_classes": [],
      "_model_module": "@jupyter-widgets/controls",
      "_model_module_version": "1.5.0",
      "_model_name": "HBoxModel",
      "_view_count": null,
      "_view_module": "@jupyter-widgets/controls",
      "_view_module_version": "1.5.0",
      "_view_name": "HBoxView",
      "box_style": "",
      "children": [
       "IPY_MODEL_d64f80e615994986a109f17a75ae0bef",
       "IPY_MODEL_1a35b244f3f3441ab7b971ef6ef12ada",
       "IPY_MODEL_066d26f028e24b8783bdb84420d59fb7"
      ],
      "layout": "IPY_MODEL_de6864d2ec9941d1acc232fe7dcc0328"
     }
    },
    "b6a993d1149d4f6c8dad44d92f542783": {
     "model_module": "@jupyter-widgets/base",
     "model_module_version": "1.2.0",
     "model_name": "LayoutModel",
     "state": {
      "_model_module": "@jupyter-widgets/base",
      "_model_module_version": "1.2.0",
      "_model_name": "LayoutModel",
      "_view_count": null,
      "_view_module": "@jupyter-widgets/base",
      "_view_module_version": "1.2.0",
      "_view_name": "LayoutView",
      "align_content": null,
      "align_items": null,
      "align_self": null,
      "border": null,
      "bottom": null,
      "display": null,
      "flex": null,
      "flex_flow": null,
      "grid_area": null,
      "grid_auto_columns": null,
      "grid_auto_flow": null,
      "grid_auto_rows": null,
      "grid_column": null,
      "grid_gap": null,
      "grid_row": null,
      "grid_template_areas": null,
      "grid_template_columns": null,
      "grid_template_rows": null,
      "height": null,
      "justify_content": null,
      "justify_items": null,
      "left": null,
      "margin": null,
      "max_height": null,
      "max_width": null,
      "min_height": null,
      "min_width": null,
      "object_fit": null,
      "object_position": null,
      "order": null,
      "overflow": null,
      "overflow_x": null,
      "overflow_y": null,
      "padding": null,
      "right": null,
      "top": null,
      "visibility": null,
      "width": null
     }
    },
    "bae23f6f94064b1196d549adefeafa9f": {
     "model_module": "@jupyter-widgets/base",
     "model_module_version": "1.2.0",
     "model_name": "LayoutModel",
     "state": {
      "_model_module": "@jupyter-widgets/base",
      "_model_module_version": "1.2.0",
      "_model_name": "LayoutModel",
      "_view_count": null,
      "_view_module": "@jupyter-widgets/base",
      "_view_module_version": "1.2.0",
      "_view_name": "LayoutView",
      "align_content": null,
      "align_items": null,
      "align_self": null,
      "border": null,
      "bottom": null,
      "display": null,
      "flex": null,
      "flex_flow": null,
      "grid_area": null,
      "grid_auto_columns": null,
      "grid_auto_flow": null,
      "grid_auto_rows": null,
      "grid_column": null,
      "grid_gap": null,
      "grid_row": null,
      "grid_template_areas": null,
      "grid_template_columns": null,
      "grid_template_rows": null,
      "height": null,
      "justify_content": null,
      "justify_items": null,
      "left": null,
      "margin": null,
      "max_height": null,
      "max_width": null,
      "min_height": null,
      "min_width": null,
      "object_fit": null,
      "object_position": null,
      "order": null,
      "overflow": null,
      "overflow_x": null,
      "overflow_y": null,
      "padding": null,
      "right": null,
      "top": null,
      "visibility": null,
      "width": null
     }
    },
    "c99de2b4a223485bb47903b375538932": {
     "model_module": "@jupyter-widgets/base",
     "model_module_version": "1.2.0",
     "model_name": "LayoutModel",
     "state": {
      "_model_module": "@jupyter-widgets/base",
      "_model_module_version": "1.2.0",
      "_model_name": "LayoutModel",
      "_view_count": null,
      "_view_module": "@jupyter-widgets/base",
      "_view_module_version": "1.2.0",
      "_view_name": "LayoutView",
      "align_content": null,
      "align_items": null,
      "align_self": null,
      "border": null,
      "bottom": null,
      "display": null,
      "flex": null,
      "flex_flow": null,
      "grid_area": null,
      "grid_auto_columns": null,
      "grid_auto_flow": null,
      "grid_auto_rows": null,
      "grid_column": null,
      "grid_gap": null,
      "grid_row": null,
      "grid_template_areas": null,
      "grid_template_columns": null,
      "grid_template_rows": null,
      "height": null,
      "justify_content": null,
      "justify_items": null,
      "left": null,
      "margin": null,
      "max_height": null,
      "max_width": null,
      "min_height": null,
      "min_width": null,
      "object_fit": null,
      "object_position": null,
      "order": null,
      "overflow": null,
      "overflow_x": null,
      "overflow_y": null,
      "padding": null,
      "right": null,
      "top": null,
      "visibility": null,
      "width": null
     }
    },
    "ca47375698604ba1a90a791a7759490d": {
     "model_module": "@jupyter-widgets/controls",
     "model_module_version": "1.5.0",
     "model_name": "ProgressStyleModel",
     "state": {
      "_model_module": "@jupyter-widgets/controls",
      "_model_module_version": "1.5.0",
      "_model_name": "ProgressStyleModel",
      "_view_count": null,
      "_view_module": "@jupyter-widgets/base",
      "_view_module_version": "1.2.0",
      "_view_name": "StyleView",
      "bar_color": null,
      "description_width": ""
     }
    },
    "d61dc9977ba1470bbb98eb8a5b78ddac": {
     "model_module": "@jupyter-widgets/base",
     "model_module_version": "1.2.0",
     "model_name": "LayoutModel",
     "state": {
      "_model_module": "@jupyter-widgets/base",
      "_model_module_version": "1.2.0",
      "_model_name": "LayoutModel",
      "_view_count": null,
      "_view_module": "@jupyter-widgets/base",
      "_view_module_version": "1.2.0",
      "_view_name": "LayoutView",
      "align_content": null,
      "align_items": null,
      "align_self": null,
      "border": null,
      "bottom": null,
      "display": null,
      "flex": null,
      "flex_flow": null,
      "grid_area": null,
      "grid_auto_columns": null,
      "grid_auto_flow": null,
      "grid_auto_rows": null,
      "grid_column": null,
      "grid_gap": null,
      "grid_row": null,
      "grid_template_areas": null,
      "grid_template_columns": null,
      "grid_template_rows": null,
      "height": null,
      "justify_content": null,
      "justify_items": null,
      "left": null,
      "margin": null,
      "max_height": null,
      "max_width": null,
      "min_height": null,
      "min_width": null,
      "object_fit": null,
      "object_position": null,
      "order": null,
      "overflow": null,
      "overflow_x": null,
      "overflow_y": null,
      "padding": null,
      "right": null,
      "top": null,
      "visibility": null,
      "width": null
     }
    },
    "d64f80e615994986a109f17a75ae0bef": {
     "model_module": "@jupyter-widgets/controls",
     "model_module_version": "1.5.0",
     "model_name": "HTMLModel",
     "state": {
      "_dom_classes": [],
      "_model_module": "@jupyter-widgets/controls",
      "_model_module_version": "1.5.0",
      "_model_name": "HTMLModel",
      "_view_count": null,
      "_view_module": "@jupyter-widgets/controls",
      "_view_module_version": "1.5.0",
      "_view_name": "HTMLView",
      "description": "",
      "description_tooltip": null,
      "layout": "IPY_MODEL_1ccc7c6902e94fb0aad0bd4886d41668",
      "placeholder": "​",
      "style": "IPY_MODEL_93df8033750842478015819ad6a7cb8d",
      "value": "Generate report structure: 100%"
     }
    },
    "dae0f0fff7fa4e93a11d500cd80c8781": {
     "model_module": "@jupyter-widgets/controls",
     "model_module_version": "1.5.0",
     "model_name": "DescriptionStyleModel",
     "state": {
      "_model_module": "@jupyter-widgets/controls",
      "_model_module_version": "1.5.0",
      "_model_name": "DescriptionStyleModel",
      "_view_count": null,
      "_view_module": "@jupyter-widgets/base",
      "_view_module_version": "1.2.0",
      "_view_name": "StyleView",
      "description_width": ""
     }
    },
    "dca78a329d8f4e7f81cd3f18dfced873": {
     "model_module": "@jupyter-widgets/controls",
     "model_module_version": "1.5.0",
     "model_name": "FloatProgressModel",
     "state": {
      "_dom_classes": [],
      "_model_module": "@jupyter-widgets/controls",
      "_model_module_version": "1.5.0",
      "_model_name": "FloatProgressModel",
      "_view_count": null,
      "_view_module": "@jupyter-widgets/controls",
      "_view_module_version": "1.5.0",
      "_view_name": "ProgressView",
      "bar_style": "success",
      "description": "",
      "description_tooltip": null,
      "layout": "IPY_MODEL_910bbb91cd1442139fecf38021d8de69",
      "max": 1,
      "min": 0,
      "orientation": "horizontal",
      "style": "IPY_MODEL_7d4ad6e64e194542b1d35a6ea7e1ce75",
      "value": 1
     }
    },
    "de6864d2ec9941d1acc232fe7dcc0328": {
     "model_module": "@jupyter-widgets/base",
     "model_module_version": "1.2.0",
     "model_name": "LayoutModel",
     "state": {
      "_model_module": "@jupyter-widgets/base",
      "_model_module_version": "1.2.0",
      "_model_name": "LayoutModel",
      "_view_count": null,
      "_view_module": "@jupyter-widgets/base",
      "_view_module_version": "1.2.0",
      "_view_name": "LayoutView",
      "align_content": null,
      "align_items": null,
      "align_self": null,
      "border": null,
      "bottom": null,
      "display": null,
      "flex": null,
      "flex_flow": null,
      "grid_area": null,
      "grid_auto_columns": null,
      "grid_auto_flow": null,
      "grid_auto_rows": null,
      "grid_column": null,
      "grid_gap": null,
      "grid_row": null,
      "grid_template_areas": null,
      "grid_template_columns": null,
      "grid_template_rows": null,
      "height": null,
      "justify_content": null,
      "justify_items": null,
      "left": null,
      "margin": null,
      "max_height": null,
      "max_width": null,
      "min_height": null,
      "min_width": null,
      "object_fit": null,
      "object_position": null,
      "order": null,
      "overflow": null,
      "overflow_x": null,
      "overflow_y": null,
      "padding": null,
      "right": null,
      "top": null,
      "visibility": null,
      "width": null
     }
    },
    "ec1e56ed44c14200a456374677588d73": {
     "model_module": "@jupyter-widgets/controls",
     "model_module_version": "1.5.0",
     "model_name": "HBoxModel",
     "state": {
      "_dom_classes": [],
      "_model_module": "@jupyter-widgets/controls",
      "_model_module_version": "1.5.0",
      "_model_name": "HBoxModel",
      "_view_count": null,
      "_view_module": "@jupyter-widgets/controls",
      "_view_module_version": "1.5.0",
      "_view_name": "HBoxView",
      "box_style": "",
      "children": [
       "IPY_MODEL_228e6c7e534a402e9cdff4f6ff7d8c35",
       "IPY_MODEL_dca78a329d8f4e7f81cd3f18dfced873",
       "IPY_MODEL_ef8e98e942194cb1a06d0a48c12c33dc"
      ],
      "layout": "IPY_MODEL_feb4fc7142b7484792ba3efcf42e35e3"
     }
    },
    "ef8e98e942194cb1a06d0a48c12c33dc": {
     "model_module": "@jupyter-widgets/controls",
     "model_module_version": "1.5.0",
     "model_name": "HTMLModel",
     "state": {
      "_dom_classes": [],
      "_model_module": "@jupyter-widgets/controls",
      "_model_module_version": "1.5.0",
      "_model_name": "HTMLModel",
      "_view_count": null,
      "_view_module": "@jupyter-widgets/controls",
      "_view_module_version": "1.5.0",
      "_view_name": "HTMLView",
      "description": "",
      "description_tooltip": null,
      "layout": "IPY_MODEL_9bea65414c2b47098f70595e9223dc3f",
      "placeholder": "​",
      "style": "IPY_MODEL_3b254ce78f3f46c093a647e3d8de81b8",
      "value": " 1/1 [00:48&lt;00:00, 48.97s/it]"
     }
    },
    "f68d8d29f98043dba8c168abec0fe598": {
     "model_module": "@jupyter-widgets/base",
     "model_module_version": "1.2.0",
     "model_name": "LayoutModel",
     "state": {
      "_model_module": "@jupyter-widgets/base",
      "_model_module_version": "1.2.0",
      "_model_name": "LayoutModel",
      "_view_count": null,
      "_view_module": "@jupyter-widgets/base",
      "_view_module_version": "1.2.0",
      "_view_name": "LayoutView",
      "align_content": null,
      "align_items": null,
      "align_self": null,
      "border": null,
      "bottom": null,
      "display": null,
      "flex": null,
      "flex_flow": null,
      "grid_area": null,
      "grid_auto_columns": null,
      "grid_auto_flow": null,
      "grid_auto_rows": null,
      "grid_column": null,
      "grid_gap": null,
      "grid_row": null,
      "grid_template_areas": null,
      "grid_template_columns": null,
      "grid_template_rows": null,
      "height": null,
      "justify_content": null,
      "justify_items": null,
      "left": null,
      "margin": null,
      "max_height": null,
      "max_width": null,
      "min_height": null,
      "min_width": null,
      "object_fit": null,
      "object_position": null,
      "order": null,
      "overflow": null,
      "overflow_x": null,
      "overflow_y": null,
      "padding": null,
      "right": null,
      "top": null,
      "visibility": null,
      "width": null
     }
    },
    "f98edb0bf6724cf0b7234e325bb832a7": {
     "model_module": "@jupyter-widgets/controls",
     "model_module_version": "1.5.0",
     "model_name": "DescriptionStyleModel",
     "state": {
      "_model_module": "@jupyter-widgets/controls",
      "_model_module_version": "1.5.0",
      "_model_name": "DescriptionStyleModel",
      "_view_count": null,
      "_view_module": "@jupyter-widgets/base",
      "_view_module_version": "1.2.0",
      "_view_name": "StyleView",
      "description_width": ""
     }
    },
    "fc5b5846de1b4c3dbf96eaa6bde8b4c0": {
     "model_module": "@jupyter-widgets/base",
     "model_module_version": "1.2.0",
     "model_name": "LayoutModel",
     "state": {
      "_model_module": "@jupyter-widgets/base",
      "_model_module_version": "1.2.0",
      "_model_name": "LayoutModel",
      "_view_count": null,
      "_view_module": "@jupyter-widgets/base",
      "_view_module_version": "1.2.0",
      "_view_name": "LayoutView",
      "align_content": null,
      "align_items": null,
      "align_self": null,
      "border": null,
      "bottom": null,
      "display": null,
      "flex": null,
      "flex_flow": null,
      "grid_area": null,
      "grid_auto_columns": null,
      "grid_auto_flow": null,
      "grid_auto_rows": null,
      "grid_column": null,
      "grid_gap": null,
      "grid_row": null,
      "grid_template_areas": null,
      "grid_template_columns": null,
      "grid_template_rows": null,
      "height": null,
      "justify_content": null,
      "justify_items": null,
      "left": null,
      "margin": null,
      "max_height": null,
      "max_width": null,
      "min_height": null,
      "min_width": null,
      "object_fit": null,
      "object_position": null,
      "order": null,
      "overflow": null,
      "overflow_x": null,
      "overflow_y": null,
      "padding": null,
      "right": null,
      "top": null,
      "visibility": null,
      "width": null
     }
    },
    "fd1e3c4ed61748ae8e307934773a0104": {
     "model_module": "@jupyter-widgets/controls",
     "model_module_version": "1.5.0",
     "model_name": "DescriptionStyleModel",
     "state": {
      "_model_module": "@jupyter-widgets/controls",
      "_model_module_version": "1.5.0",
      "_model_name": "DescriptionStyleModel",
      "_view_count": null,
      "_view_module": "@jupyter-widgets/base",
      "_view_module_version": "1.2.0",
      "_view_name": "StyleView",
      "description_width": ""
     }
    },
    "feb4fc7142b7484792ba3efcf42e35e3": {
     "model_module": "@jupyter-widgets/base",
     "model_module_version": "1.2.0",
     "model_name": "LayoutModel",
     "state": {
      "_model_module": "@jupyter-widgets/base",
      "_model_module_version": "1.2.0",
      "_model_name": "LayoutModel",
      "_view_count": null,
      "_view_module": "@jupyter-widgets/base",
      "_view_module_version": "1.2.0",
      "_view_name": "LayoutView",
      "align_content": null,
      "align_items": null,
      "align_self": null,
      "border": null,
      "bottom": null,
      "display": null,
      "flex": null,
      "flex_flow": null,
      "grid_area": null,
      "grid_auto_columns": null,
      "grid_auto_flow": null,
      "grid_auto_rows": null,
      "grid_column": null,
      "grid_gap": null,
      "grid_row": null,
      "grid_template_areas": null,
      "grid_template_columns": null,
      "grid_template_rows": null,
      "height": null,
      "justify_content": null,
      "justify_items": null,
      "left": null,
      "margin": null,
      "max_height": null,
      "max_width": null,
      "min_height": null,
      "min_width": null,
      "object_fit": null,
      "object_position": null,
      "order": null,
      "overflow": null,
      "overflow_x": null,
      "overflow_y": null,
      "padding": null,
      "right": null,
      "top": null,
      "visibility": null,
      "width": null
     }
    }
   }
  }
 },
 "nbformat": 4,
 "nbformat_minor": 5
}
